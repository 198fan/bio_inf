{
 "cells": [
  {
   "cell_type": "markdown",
   "id": "4e3fde7d",
   "metadata": {
    "papermill": {
     "duration": 0.016021,
     "end_time": "2023-01-29T01:16:10.852922",
     "exception": false,
     "start_time": "2023-01-29T01:16:10.836901",
     "status": "completed"
    },
    "tags": []
   },
   "source": [
    "## Gradient Descent and Linear Regression with PyTorch\n",
    "\n"
   ]
  },
  {
   "cell_type": "markdown",
   "id": "a00b39d3",
   "metadata": {
    "papermill": {
     "duration": 0.014968,
     "end_time": "2023-01-29T01:16:10.883218",
     "exception": false,
     "start_time": "2023-01-29T01:16:10.868250",
     "status": "completed"
    },
    "tags": []
   },
   "source": [
    "This tutorial covers the following topics:\n",
    "\n",
    "- Introduction to linear regression and gradient descent\n",
    "- Implementing a linear regression model using PyTorch tensors\n",
    "- Training a linear regression model using the gradient descent algorithm\n",
    "- Implementing gradient descent and linear regression using PyTorch built-in"
   ]
  },
  {
   "cell_type": "code",
   "execution_count": 1,
   "id": "595e8984",
   "metadata": {
    "execution": {
     "iopub.execute_input": "2023-01-29T01:16:10.916920Z",
     "iopub.status.busy": "2023-01-29T01:16:10.916523Z",
     "iopub.status.idle": "2023-01-29T01:16:10.921840Z",
     "shell.execute_reply": "2023-01-29T01:16:10.920954Z"
    },
    "papermill": {
     "duration": 0.02521,
     "end_time": "2023-01-29T01:16:10.923657",
     "exception": false,
     "start_time": "2023-01-29T01:16:10.898447",
     "status": "completed"
    },
    "tags": []
   },
   "outputs": [],
   "source": [
    "# Uncomment and run the appropriate command for your operating system, if required\n",
    "\n",
    "# Linux / Binder\n",
    "# !pip install numpy torch==1.7.0+cpu torchvision==0.8.1+cpu torchaudio==0.7.0 -f https://download.pytorch.org/whl/torch_stable.html\n",
    "\n",
    "# Windows\n",
    "# !pip install numpy torch==1.7.0+cpu torchvision==0.8.1+cpu torchaudio==0.7.0 -f https://download.pytorch.org/whl/torch_stable.html\n",
    "\n",
    "# MacOS\n",
    "# !pip install numpy torch torchvision torchaudio"
   ]
  },
  {
   "cell_type": "markdown",
   "id": "1a77d5e3",
   "metadata": {
    "papermill": {
     "duration": 0.016124,
     "end_time": "2023-01-29T01:16:10.955224",
     "exception": false,
     "start_time": "2023-01-29T01:16:10.939100",
     "status": "completed"
    },
    "tags": []
   },
   "source": [
    "## Introduction to Linear Regression\n",
    "\n",
    "In this tutorial, we'll discuss one of the foundational algorithms in machine learning: *Linear regression*. We'll create a model that predicts crop yields for apples and oranges (*target variables*) by looking at the average temperature, rainfall, and humidity (*input variables or features*) in a region. Here's the training data:\n",
    "\n",
    "![linear-regression-training-data](https://i.imgur.com/6Ujttb4.png)\n",
    "\n",
    "In a linear regression model, each target variable is estimated to be a weighted sum of the input variables, offset by some constant, known as a bias :\n",
    "\n",
    "```\n",
    "yield_apple  = w11 * temp + w12 * rainfall + w13 * humidity + b1\n",
    "yield_orange = w21 * temp + w22 * rainfall + w23 * humidity + b2\n",
    "```\n",
    "\n",
    "Visually, it means that the yield of apples is a linear or planar function of temperature, rainfall and humidity:\n",
    "\n",
    "![linear-regression-graph](https://i.imgur.com/4DJ9f8X.png)"
   ]
  },
  {
   "cell_type": "markdown",
   "id": "0a4ff1c4",
   "metadata": {
    "papermill": {
     "duration": 0.015401,
     "end_time": "2023-01-29T01:16:10.986647",
     "exception": false,
     "start_time": "2023-01-29T01:16:10.971246",
     "status": "completed"
    },
    "tags": []
   },
   "source": [
    "The *learning* part of linear regression is to figure out a set of weights `w11, w12,... w23, b1 & b2` using the training data, to make accurate predictions for new data. The _learned_ weights will be used to predict the yields for apples and oranges in a new region using the average temperature, rainfall, and humidity for that region. \n",
    "\n",
    "We'll _train_ our model by adjusting the weights slightly many times to make better predictions, using an optimization technique called *gradient descent*. Let's begin by importing Numpy and PyTorch."
   ]
  },
  {
   "cell_type": "code",
   "execution_count": 2,
   "id": "77436af4",
   "metadata": {
    "execution": {
     "iopub.execute_input": "2023-01-29T01:16:11.020366Z",
     "iopub.status.busy": "2023-01-29T01:16:11.020049Z",
     "iopub.status.idle": "2023-01-29T01:16:13.137574Z",
     "shell.execute_reply": "2023-01-29T01:16:13.136582Z"
    },
    "papermill": {
     "duration": 2.137301,
     "end_time": "2023-01-29T01:16:13.139824",
     "exception": false,
     "start_time": "2023-01-29T01:16:11.002523",
     "status": "completed"
    },
    "tags": []
   },
   "outputs": [],
   "source": [
    "import numpy as np\n",
    "import torch"
   ]
  },
  {
   "cell_type": "markdown",
   "id": "55bbf453",
   "metadata": {
    "papermill": {
     "duration": 0.015416,
     "end_time": "2023-01-29T01:16:13.171135",
     "exception": false,
     "start_time": "2023-01-29T01:16:13.155719",
     "status": "completed"
    },
    "tags": []
   },
   "source": [
    "## Training data\n",
    "\n",
    "We can represent the training data using two matrices: `inputs` and `targets`, each with one row per observation, and one column per variable."
   ]
  },
  {
   "cell_type": "code",
   "execution_count": 3,
   "id": "845cec03",
   "metadata": {
    "execution": {
     "iopub.execute_input": "2023-01-29T01:16:13.204964Z",
     "iopub.status.busy": "2023-01-29T01:16:13.204453Z",
     "iopub.status.idle": "2023-01-29T01:16:13.210153Z",
     "shell.execute_reply": "2023-01-29T01:16:13.209033Z"
    },
    "papermill": {
     "duration": 0.025165,
     "end_time": "2023-01-29T01:16:13.212137",
     "exception": false,
     "start_time": "2023-01-29T01:16:13.186972",
     "status": "completed"
    },
    "tags": []
   },
   "outputs": [],
   "source": [
    "# Input (temp, rainfall, humidity)\n",
    "inputs = np.array([[73, 67, 43], \n",
    "                   [91, 88, 64], \n",
    "                   [87, 134, 58], \n",
    "                   [102, 43, 37], \n",
    "                   [69, 96, 70]], dtype='float32')"
   ]
  },
  {
   "cell_type": "code",
   "execution_count": 4,
   "id": "f3c8c061",
   "metadata": {
    "execution": {
     "iopub.execute_input": "2023-01-29T01:16:13.246110Z",
     "iopub.status.busy": "2023-01-29T01:16:13.245804Z",
     "iopub.status.idle": "2023-01-29T01:16:13.251055Z",
     "shell.execute_reply": "2023-01-29T01:16:13.249879Z"
    },
    "papermill": {
     "duration": 0.023888,
     "end_time": "2023-01-29T01:16:13.252791",
     "exception": false,
     "start_time": "2023-01-29T01:16:13.228903",
     "status": "completed"
    },
    "tags": []
   },
   "outputs": [],
   "source": [
    "# Targets (apples, oranges)\n",
    "targets = np.array([[56, 70], \n",
    "                    [81, 101], \n",
    "                    [119, 133], \n",
    "                    [22, 37], \n",
    "                    [103, 119]], dtype='float32')"
   ]
  },
  {
   "cell_type": "markdown",
   "id": "b4dda56c",
   "metadata": {
    "papermill": {
     "duration": 0.015048,
     "end_time": "2023-01-29T01:16:13.283453",
     "exception": false,
     "start_time": "2023-01-29T01:16:13.268405",
     "status": "completed"
    },
    "tags": []
   },
   "source": [
    "We've separated the input and target variables because we'll operate on them separately. Also, we've created numpy arrays, because this is typically how you would work with training data: read some CSV files as numpy arrays, do some processing, and then convert them to PyTorch tensors.\n",
    "\n",
    "Let's convert the arrays to PyTorch tensors."
   ]
  },
  {
   "cell_type": "code",
   "execution_count": 5,
   "id": "67001372",
   "metadata": {
    "execution": {
     "iopub.execute_input": "2023-01-29T01:16:13.316129Z",
     "iopub.status.busy": "2023-01-29T01:16:13.315829Z",
     "iopub.status.idle": "2023-01-29T01:16:13.324363Z",
     "shell.execute_reply": "2023-01-29T01:16:13.323742Z"
    },
    "papermill": {
     "duration": 0.027782,
     "end_time": "2023-01-29T01:16:13.326660",
     "exception": false,
     "start_time": "2023-01-29T01:16:13.298878",
     "status": "completed"
    },
    "tags": []
   },
   "outputs": [
    {
     "name": "stdout",
     "output_type": "stream",
     "text": [
      "tensor([[ 73.,  67.,  43.],\n",
      "        [ 91.,  88.,  64.],\n",
      "        [ 87., 134.,  58.],\n",
      "        [102.,  43.,  37.],\n",
      "        [ 69.,  96.,  70.]])\n",
      "tensor([[ 56.,  70.],\n",
      "        [ 81., 101.],\n",
      "        [119., 133.],\n",
      "        [ 22.,  37.],\n",
      "        [103., 119.]])\n"
     ]
    }
   ],
   "source": [
    "# Convert inputs and targets to tensors\n",
    "inputs = torch.from_numpy(inputs)\n",
    "targets = torch.from_numpy(targets)\n",
    "print(inputs)\n",
    "print(targets)"
   ]
  },
  {
   "cell_type": "markdown",
   "id": "5830db8a",
   "metadata": {
    "papermill": {
     "duration": 0.015713,
     "end_time": "2023-01-29T01:16:13.360122",
     "exception": false,
     "start_time": "2023-01-29T01:16:13.344409",
     "status": "completed"
    },
    "tags": []
   },
   "source": [
    "## Linear regression model from scratch\n",
    "\n",
    "The weights and biases (`w11, w12,... w23, b1 & b2`) can also be represented as matrices, initialized as random values. The first row of `w` and the first element of `b` are used to predict the first target variable, i.e., yield of apples, and similarly, the second for oranges."
   ]
  },
  {
   "cell_type": "code",
   "execution_count": 6,
   "id": "f4ecd31e",
   "metadata": {
    "execution": {
     "iopub.execute_input": "2023-01-29T01:16:13.394325Z",
     "iopub.status.busy": "2023-01-29T01:16:13.394010Z",
     "iopub.status.idle": "2023-01-29T01:16:13.405505Z",
     "shell.execute_reply": "2023-01-29T01:16:13.404363Z"
    },
    "papermill": {
     "duration": 0.031757,
     "end_time": "2023-01-29T01:16:13.407910",
     "exception": false,
     "start_time": "2023-01-29T01:16:13.376153",
     "status": "completed"
    },
    "tags": []
   },
   "outputs": [
    {
     "name": "stdout",
     "output_type": "stream",
     "text": [
      "tensor([[-1.1190,  0.0044,  0.9822],\n",
      "        [-0.4878,  0.4816, -0.9879]], requires_grad=True)\n",
      "tensor([-0.6925, -0.3892], requires_grad=True)\n"
     ]
    }
   ],
   "source": [
    "# Weights and biases\n",
    "w = torch.randn(2, 3, requires_grad=True)\n",
    "b = torch.randn(2, requires_grad=True)\n",
    "print(w)\n",
    "print(b)"
   ]
  },
  {
   "cell_type": "markdown",
   "id": "234fa6a9",
   "metadata": {
    "papermill": {
     "duration": 0.015621,
     "end_time": "2023-01-29T01:16:13.439982",
     "exception": false,
     "start_time": "2023-01-29T01:16:13.424361",
     "status": "completed"
    },
    "tags": []
   },
   "source": [
    "`torch.randn` creates a tensor with the given shape, with elements picked randomly from a [normal distribution](https://en.wikipedia.org/wiki/Normal_distribution) with mean 0 and standard deviation 1.\n",
    "\n",
    "Our *model* is simply a function that performs a matrix multiplication of the `inputs` and the weights `w` (transposed) and adds the bias `b` (replicated for each observation).\n",
    "\n",
    "![matrix-mult](https://i.imgur.com/WGXLFvA.png)\n",
    "\n",
    "We can define the model as follows:"
   ]
  },
  {
   "cell_type": "code",
   "execution_count": 7,
   "id": "3ccd8a06",
   "metadata": {
    "execution": {
     "iopub.execute_input": "2023-01-29T01:16:13.473300Z",
     "iopub.status.busy": "2023-01-29T01:16:13.472901Z",
     "iopub.status.idle": "2023-01-29T01:16:13.478186Z",
     "shell.execute_reply": "2023-01-29T01:16:13.476721Z"
    },
    "papermill": {
     "duration": 0.024593,
     "end_time": "2023-01-29T01:16:13.480393",
     "exception": false,
     "start_time": "2023-01-29T01:16:13.455800",
     "status": "completed"
    },
    "tags": []
   },
   "outputs": [],
   "source": [
    "def model(x):\n",
    "    return x @ w.t() + b # @ is pytorch matrix multiplication"
   ]
  },
  {
   "cell_type": "markdown",
   "id": "c6550675",
   "metadata": {
    "papermill": {
     "duration": 0.015796,
     "end_time": "2023-01-29T01:16:13.512486",
     "exception": false,
     "start_time": "2023-01-29T01:16:13.496690",
     "status": "completed"
    },
    "tags": []
   },
   "source": [
    "`@` represents matrix multiplication in PyTorch, and the `.t` method returns the transpose of a tensor.\n",
    "\n",
    "The matrix obtained by passing the input data into the model is a set of predictions for the target variables."
   ]
  },
  {
   "cell_type": "code",
   "execution_count": 8,
   "id": "23c193be",
   "metadata": {
    "execution": {
     "iopub.execute_input": "2023-01-29T01:16:13.549305Z",
     "iopub.status.busy": "2023-01-29T01:16:13.548960Z",
     "iopub.status.idle": "2023-01-29T01:16:13.571609Z",
     "shell.execute_reply": "2023-01-29T01:16:13.570448Z"
    },
    "papermill": {
     "duration": 0.043671,
     "end_time": "2023-01-29T01:16:13.573725",
     "exception": false,
     "start_time": "2023-01-29T01:16:13.530054",
     "status": "completed"
    },
    "tags": []
   },
   "outputs": [
    {
     "name": "stdout",
     "output_type": "stream",
     "text": [
      "tensor([[-39.8468, -46.2069],\n",
      "        [-39.2691, -65.6189],\n",
      "        [-40.4838, -35.5850],\n",
      "        [-78.2964, -65.9834],\n",
      "        [ -8.7230, -56.9628]], grad_fn=<AddBackward0>)\n"
     ]
    }
   ],
   "source": [
    "# Generate predictions\n",
    "preds = model(inputs)\n",
    "print(preds)"
   ]
  },
  {
   "cell_type": "markdown",
   "id": "84fba035",
   "metadata": {
    "papermill": {
     "duration": 0.016444,
     "end_time": "2023-01-29T01:16:13.607077",
     "exception": false,
     "start_time": "2023-01-29T01:16:13.590633",
     "status": "completed"
    },
    "tags": []
   },
   "source": [
    "Let's compare the predictions of our model with the actual targets."
   ]
  },
  {
   "cell_type": "code",
   "execution_count": 9,
   "id": "4b069535",
   "metadata": {
    "execution": {
     "iopub.execute_input": "2023-01-29T01:16:13.641355Z",
     "iopub.status.busy": "2023-01-29T01:16:13.641053Z",
     "iopub.status.idle": "2023-01-29T01:16:13.648368Z",
     "shell.execute_reply": "2023-01-29T01:16:13.646348Z"
    },
    "papermill": {
     "duration": 0.027323,
     "end_time": "2023-01-29T01:16:13.650751",
     "exception": false,
     "start_time": "2023-01-29T01:16:13.623428",
     "status": "completed"
    },
    "tags": []
   },
   "outputs": [
    {
     "name": "stdout",
     "output_type": "stream",
     "text": [
      "tensor([[ 56.,  70.],\n",
      "        [ 81., 101.],\n",
      "        [119., 133.],\n",
      "        [ 22.,  37.],\n",
      "        [103., 119.]])\n"
     ]
    }
   ],
   "source": [
    "# Compare with targets\n",
    "print(targets)"
   ]
  },
  {
   "cell_type": "markdown",
   "id": "aa5b7c6a",
   "metadata": {
    "papermill": {
     "duration": 0.016378,
     "end_time": "2023-01-29T01:16:13.684599",
     "exception": false,
     "start_time": "2023-01-29T01:16:13.668221",
     "status": "completed"
    },
    "tags": []
   },
   "source": [
    "You can see a big difference between our model's predictions and the actual targets because we've initialized our model with random weights and biases. Obviously, we can't expect a randomly initialized model to *just work*."
   ]
  },
  {
   "cell_type": "markdown",
   "id": "636205be",
   "metadata": {
    "papermill": {
     "duration": 0.017995,
     "end_time": "2023-01-29T01:16:13.721062",
     "exception": false,
     "start_time": "2023-01-29T01:16:13.703067",
     "status": "completed"
    },
    "tags": []
   },
   "source": [
    "## Loss function\n",
    "\n",
    "Before we improve our model, we need a way to evaluate how well our model is performing. We can compare the model's predictions with the actual targets using the following method:\n",
    "\n",
    "* Calculate the difference between the two matrices (`preds` and `targets`).\n",
    "* Square all elements of the difference matrix to remove negative values.\n",
    "* Calculate the average of the elements in the resulting matrix.\n",
    "\n",
    "The result is a single number, known as the **mean squared error** (MSE)."
   ]
  },
  {
   "cell_type": "code",
   "execution_count": 10,
   "id": "805259ba",
   "metadata": {
    "execution": {
     "iopub.execute_input": "2023-01-29T01:16:13.755038Z",
     "iopub.status.busy": "2023-01-29T01:16:13.754699Z",
     "iopub.status.idle": "2023-01-29T01:16:13.761947Z",
     "shell.execute_reply": "2023-01-29T01:16:13.759845Z"
    },
    "papermill": {
     "duration": 0.027374,
     "end_time": "2023-01-29T01:16:13.764688",
     "exception": false,
     "start_time": "2023-01-29T01:16:13.737314",
     "status": "completed"
    },
    "tags": []
   },
   "outputs": [],
   "source": [
    "# MSE loss\n",
    "def mse(t1, t2):\n",
    "    diff = t1 - t2\n",
    "    return torch.sum(diff * diff) / diff.numel()"
   ]
  },
  {
   "cell_type": "markdown",
   "id": "39f3f2bb",
   "metadata": {
    "papermill": {
     "duration": 0.016877,
     "end_time": "2023-01-29T01:16:13.798911",
     "exception": false,
     "start_time": "2023-01-29T01:16:13.782034",
     "status": "completed"
    },
    "tags": []
   },
   "source": [
    "`torch.sum` returns the sum of all the elements in a tensor. The `.numel` method of a tensor returns the number of elements in a tensor. Let's compute the mean squared error for the current predictions of our model."
   ]
  },
  {
   "cell_type": "code",
   "execution_count": 11,
   "id": "2659f856",
   "metadata": {
    "execution": {
     "iopub.execute_input": "2023-01-29T01:16:13.834004Z",
     "iopub.status.busy": "2023-01-29T01:16:13.833671Z",
     "iopub.status.idle": "2023-01-29T01:16:13.842096Z",
     "shell.execute_reply": "2023-01-29T01:16:13.840613Z"
    },
    "papermill": {
     "duration": 0.028937,
     "end_time": "2023-01-29T01:16:13.844585",
     "exception": false,
     "start_time": "2023-01-29T01:16:13.815648",
     "status": "completed"
    },
    "tags": []
   },
   "outputs": [
    {
     "name": "stdout",
     "output_type": "stream",
     "text": [
      "tensor(18288.3047, grad_fn=<DivBackward0>)\n"
     ]
    }
   ],
   "source": [
    "# Compute loss\n",
    "loss = mse(preds, targets)\n",
    "print(loss)"
   ]
  },
  {
   "cell_type": "markdown",
   "id": "371c3f04",
   "metadata": {
    "papermill": {
     "duration": 0.017157,
     "end_time": "2023-01-29T01:16:13.877484",
     "exception": false,
     "start_time": "2023-01-29T01:16:13.860327",
     "status": "completed"
    },
    "tags": []
   },
   "source": [
    "Here’s how we can interpret the result: *On average, each element in the prediction differs from the actual target by the square root of the loss*. And that’s pretty bad, considering the numbers we are trying to predict are themselves in the range 50–200. The result is called the *loss* because it indicates how bad the model is at predicting the target variables. It represents information loss in the model: the lower the loss, the better the model."
   ]
  },
  {
   "cell_type": "markdown",
   "id": "47a4fa61",
   "metadata": {
    "papermill": {
     "duration": 0.016219,
     "end_time": "2023-01-29T01:16:13.910011",
     "exception": false,
     "start_time": "2023-01-29T01:16:13.893792",
     "status": "completed"
    },
    "tags": []
   },
   "source": [
    "## Compute gradients\n",
    "\n",
    "With PyTorch, we can automatically compute the gradient or derivative of the loss w.r.t. to the weights and biases because they have `requires_grad` set to `True`. We'll see how this is useful in just a moment."
   ]
  },
  {
   "cell_type": "code",
   "execution_count": 12,
   "id": "5afb581c",
   "metadata": {
    "execution": {
     "iopub.execute_input": "2023-01-29T01:16:13.944686Z",
     "iopub.status.busy": "2023-01-29T01:16:13.944346Z",
     "iopub.status.idle": "2023-01-29T01:16:13.959968Z",
     "shell.execute_reply": "2023-01-29T01:16:13.959265Z"
    },
    "papermill": {
     "duration": 0.035335,
     "end_time": "2023-01-29T01:16:13.962336",
     "exception": false,
     "start_time": "2023-01-29T01:16:13.927001",
     "status": "completed"
    },
    "tags": []
   },
   "outputs": [],
   "source": [
    "# Compute gradients\n",
    "loss.backward()"
   ]
  },
  {
   "cell_type": "markdown",
   "id": "ba27fc44",
   "metadata": {
    "papermill": {
     "duration": 0.015371,
     "end_time": "2023-01-29T01:16:13.993355",
     "exception": false,
     "start_time": "2023-01-29T01:16:13.977984",
     "status": "completed"
    },
    "tags": []
   },
   "source": [
    "The gradients are stored in the `.grad` property of the respective tensors. Note that the derivative of the loss w.r.t. the weights matrix is itself a matrix with the same dimensions."
   ]
  },
  {
   "cell_type": "code",
   "execution_count": 13,
   "id": "93b3a619",
   "metadata": {
    "execution": {
     "iopub.execute_input": "2023-01-29T01:16:14.027491Z",
     "iopub.status.busy": "2023-01-29T01:16:14.026108Z",
     "iopub.status.idle": "2023-01-29T01:16:14.033853Z",
     "shell.execute_reply": "2023-01-29T01:16:14.032438Z"
    },
    "papermill": {
     "duration": 0.027111,
     "end_time": "2023-01-29T01:16:14.036136",
     "exception": false,
     "start_time": "2023-01-29T01:16:14.009025",
     "status": "completed"
    },
    "tags": []
   },
   "outputs": [
    {
     "name": "stdout",
     "output_type": "stream",
     "text": [
      "tensor([[-1.1190,  0.0044,  0.9822],\n",
      "        [-0.4878,  0.4816, -0.9879]], requires_grad=True)\n",
      "tensor([[ -9951.1035, -10682.8809,  -6520.0552],\n",
      "        [-12191.6123, -13271.8887,  -8313.2441]])\n"
     ]
    }
   ],
   "source": [
    "# Gradients for weights\n",
    "print(w)\n",
    "print(w.grad)"
   ]
  },
  {
   "cell_type": "markdown",
   "id": "365468d3",
   "metadata": {
    "papermill": {
     "duration": 0.015655,
     "end_time": "2023-01-29T01:16:14.067745",
     "exception": false,
     "start_time": "2023-01-29T01:16:14.052090",
     "status": "completed"
    },
    "tags": []
   },
   "source": [
    "## Adjust weights and biases to reduce the loss\n",
    "\n",
    "The loss is a [quadratic function](https://en.wikipedia.org/wiki/Quadratic_function) of our weights and biases, and our objective is to find the set of weights where the loss is the lowest. If we plot a graph of the loss w.r.t any individual weight or bias element, it will look like the figure shown below. An important insight from calculus is that the gradient indicates the rate of change of the loss, i.e., the loss function's [slope](https://en.wikipedia.org/wiki/Slope) w.r.t. the weights and biases.\n",
    "\n",
    "If a gradient element is **positive**:\n",
    "\n",
    "* **increasing** the weight element's value slightly will **increase** the loss\n",
    "* **decreasing** the weight element's value slightly will **decrease** the loss\n",
    "\n",
    "![postive-gradient](https://i.imgur.com/WLzJ4xP.png)\n",
    "\n",
    "If a gradient element is **negative**:\n",
    "\n",
    "* **increasing** the weight element's value slightly will **decrease** the loss\n",
    "* **decreasing** the weight element's value slightly will **increase** the loss\n",
    "\n",
    "![negative=gradient](https://i.imgur.com/dvG2fxU.png)\n",
    "\n",
    "The increase or decrease in the loss by changing a weight element is proportional to the gradient of the loss w.r.t. that element. This observation forms the basis of _the gradient descent_ optimization algorithm that we'll use to improve our model (by _descending_ along the _gradient_).\n",
    "\n",
    "We can subtract from each weight element a small quantity proportional to the derivative of the loss w.r.t. that element to reduce the loss slightly."
   ]
  },
  {
   "cell_type": "code",
   "execution_count": 14,
   "id": "f6fca73e",
   "metadata": {
    "execution": {
     "iopub.execute_input": "2023-01-29T01:16:14.102111Z",
     "iopub.status.busy": "2023-01-29T01:16:14.101791Z",
     "iopub.status.idle": "2023-01-29T01:16:14.112823Z",
     "shell.execute_reply": "2023-01-29T01:16:14.111281Z"
    },
    "papermill": {
     "duration": 0.031489,
     "end_time": "2023-01-29T01:16:14.115430",
     "exception": false,
     "start_time": "2023-01-29T01:16:14.083941",
     "status": "completed"
    },
    "tags": []
   },
   "outputs": [
    {
     "data": {
      "text/plain": [
       "tensor([[ -9951.1035, -10682.8809,  -6520.0552],\n",
       "        [-12191.6123, -13271.8887,  -8313.2441]])"
      ]
     },
     "execution_count": 14,
     "metadata": {},
     "output_type": "execute_result"
    }
   ],
   "source": [
    "w\n",
    "w.grad"
   ]
  },
  {
   "cell_type": "code",
   "execution_count": 15,
   "id": "a08fbd87",
   "metadata": {
    "execution": {
     "iopub.execute_input": "2023-01-29T01:16:14.152602Z",
     "iopub.status.busy": "2023-01-29T01:16:14.151461Z",
     "iopub.status.idle": "2023-01-29T01:16:14.157924Z",
     "shell.execute_reply": "2023-01-29T01:16:14.156965Z"
    },
    "papermill": {
     "duration": 0.027478,
     "end_time": "2023-01-29T01:16:14.160040",
     "exception": false,
     "start_time": "2023-01-29T01:16:14.132562",
     "status": "completed"
    },
    "tags": []
   },
   "outputs": [],
   "source": [
    "with torch.no_grad():\n",
    "    w -= w.grad * 1e-5\n",
    "    b -= b.grad * 1e-5"
   ]
  },
  {
   "cell_type": "markdown",
   "id": "e1720184",
   "metadata": {
    "papermill": {
     "duration": 0.016474,
     "end_time": "2023-01-29T01:16:14.193385",
     "exception": false,
     "start_time": "2023-01-29T01:16:14.176911",
     "status": "completed"
    },
    "tags": []
   },
   "source": [
    "We multiply the gradients with a very small number (`10^-5` in this case) to ensure that we don't modify the weights by a very large amount. We want to take a small step in the downhill direction of the gradient, not a giant leap. This number is called the *learning rate* of the algorithm. \n",
    "\n",
    "We use `torch.no_grad` to indicate to PyTorch that we shouldn't track, calculate, or modify gradients while updating the weights and biases."
   ]
  },
  {
   "cell_type": "code",
   "execution_count": 16,
   "id": "e340dc03",
   "metadata": {
    "execution": {
     "iopub.execute_input": "2023-01-29T01:16:14.229407Z",
     "iopub.status.busy": "2023-01-29T01:16:14.228080Z",
     "iopub.status.idle": "2023-01-29T01:16:14.234491Z",
     "shell.execute_reply": "2023-01-29T01:16:14.233111Z"
    },
    "papermill": {
     "duration": 0.025801,
     "end_time": "2023-01-29T01:16:14.236713",
     "exception": false,
     "start_time": "2023-01-29T01:16:14.210912",
     "status": "completed"
    },
    "tags": []
   },
   "outputs": [
    {
     "name": "stdout",
     "output_type": "stream",
     "text": [
      "tensor(18288.3047, grad_fn=<DivBackward0>)\n"
     ]
    }
   ],
   "source": [
    "# Let's verify that the loss is actually lower\n",
    "loss = mse(preds, targets)\n",
    "print(loss)"
   ]
  },
  {
   "cell_type": "markdown",
   "id": "3aac4583",
   "metadata": {
    "papermill": {
     "duration": 0.015997,
     "end_time": "2023-01-29T01:16:14.268747",
     "exception": false,
     "start_time": "2023-01-29T01:16:14.252750",
     "status": "completed"
    },
    "tags": []
   },
   "source": [
    "Before we proceed, we reset the gradients to zero by invoking the `.zero_()` method. We need to do this because PyTorch accumulates gradients. Otherwise, the next time we invoke `.backward` on the loss, the new gradient values are added to the existing gradients, which may lead to unexpected results."
   ]
  },
  {
   "cell_type": "code",
   "execution_count": 17,
   "id": "31128de7",
   "metadata": {
    "execution": {
     "iopub.execute_input": "2023-01-29T01:16:14.302582Z",
     "iopub.status.busy": "2023-01-29T01:16:14.302007Z",
     "iopub.status.idle": "2023-01-29T01:16:14.307818Z",
     "shell.execute_reply": "2023-01-29T01:16:14.306437Z"
    },
    "papermill": {
     "duration": 0.024963,
     "end_time": "2023-01-29T01:16:14.309708",
     "exception": false,
     "start_time": "2023-01-29T01:16:14.284745",
     "status": "completed"
    },
    "tags": []
   },
   "outputs": [
    {
     "name": "stdout",
     "output_type": "stream",
     "text": [
      "tensor([[0., 0., 0.],\n",
      "        [0., 0., 0.]])\n",
      "tensor([0., 0.])\n"
     ]
    }
   ],
   "source": [
    "w.grad.zero_()\n",
    "b.grad.zero_()\n",
    "print(w.grad)\n",
    "print(b.grad)"
   ]
  },
  {
   "cell_type": "markdown",
   "id": "f3c212fd",
   "metadata": {
    "papermill": {
     "duration": 0.015664,
     "end_time": "2023-01-29T01:16:14.341331",
     "exception": false,
     "start_time": "2023-01-29T01:16:14.325667",
     "status": "completed"
    },
    "tags": []
   },
   "source": [
    "## Train the model using gradient descent\n",
    "\n",
    "As seen above, we reduce the loss and improve our model using the gradient descent optimization algorithm. Thus, we can _train_ the model using the following steps:\n",
    "\n",
    "1. Generate predictions\n",
    "\n",
    "2. Calculate the loss\n",
    "\n",
    "3. Compute gradients w.r.t the weights and biases\n",
    "\n",
    "4. Adjust the weights by subtracting a small quantity proportional to the gradient\n",
    "\n",
    "5. Reset the gradients to zero\n",
    "\n",
    "Let's implement the above step by step."
   ]
  },
  {
   "cell_type": "code",
   "execution_count": 18,
   "id": "01aad3af",
   "metadata": {
    "execution": {
     "iopub.execute_input": "2023-01-29T01:16:14.375233Z",
     "iopub.status.busy": "2023-01-29T01:16:14.374736Z",
     "iopub.status.idle": "2023-01-29T01:16:14.381782Z",
     "shell.execute_reply": "2023-01-29T01:16:14.380268Z"
    },
    "papermill": {
     "duration": 0.027437,
     "end_time": "2023-01-29T01:16:14.384805",
     "exception": false,
     "start_time": "2023-01-29T01:16:14.357368",
     "status": "completed"
    },
    "tags": []
   },
   "outputs": [
    {
     "name": "stdout",
     "output_type": "stream",
     "text": [
      "tensor([[-22.6202, -24.8387],\n",
      "        [-16.6387, -37.5233],\n",
      "        [-13.7284,  -2.3708],\n",
      "        [-61.1390, -44.7637],\n",
      "        [ 12.9640, -29.9889]], grad_fn=<AddBackward0>)\n"
     ]
    }
   ],
   "source": [
    "# Generate predictions\n",
    "preds = model(inputs)\n",
    "print(preds)"
   ]
  },
  {
   "cell_type": "code",
   "execution_count": 19,
   "id": "f259fd53",
   "metadata": {
    "execution": {
     "iopub.execute_input": "2023-01-29T01:16:14.422597Z",
     "iopub.status.busy": "2023-01-29T01:16:14.422235Z",
     "iopub.status.idle": "2023-01-29T01:16:14.431384Z",
     "shell.execute_reply": "2023-01-29T01:16:14.429874Z"
    },
    "papermill": {
     "duration": 0.031987,
     "end_time": "2023-01-29T01:16:14.433732",
     "exception": false,
     "start_time": "2023-01-29T01:16:14.401745",
     "status": "completed"
    },
    "tags": []
   },
   "outputs": [
    {
     "name": "stdout",
     "output_type": "stream",
     "text": [
      "tensor(12374.1191, grad_fn=<DivBackward0>)\n"
     ]
    }
   ],
   "source": [
    "# Calculate the loss\n",
    "loss = mse(preds, targets)\n",
    "print(loss)"
   ]
  },
  {
   "cell_type": "code",
   "execution_count": 20,
   "id": "6e75a558",
   "metadata": {
    "execution": {
     "iopub.execute_input": "2023-01-29T01:16:14.475680Z",
     "iopub.status.busy": "2023-01-29T01:16:14.475267Z",
     "iopub.status.idle": "2023-01-29T01:16:14.486140Z",
     "shell.execute_reply": "2023-01-29T01:16:14.485305Z"
    },
    "papermill": {
     "duration": 0.035377,
     "end_time": "2023-01-29T01:16:14.488463",
     "exception": false,
     "start_time": "2023-01-29T01:16:14.453086",
     "status": "completed"
    },
    "tags": []
   },
   "outputs": [
    {
     "name": "stdout",
     "output_type": "stream",
     "text": [
      "tensor([[ -8172.8867,  -8772.7598,  -5341.2915],\n",
      "        [ -9985.2480, -10900.5410,  -6849.9082]])\n",
      "tensor([ -96.4325, -119.8971])\n"
     ]
    }
   ],
   "source": [
    "# Compute gradients\n",
    "loss.backward()\n",
    "print(w.grad)\n",
    "print(b.grad)"
   ]
  },
  {
   "cell_type": "markdown",
   "id": "c1a9ac12",
   "metadata": {
    "papermill": {
     "duration": 0.016819,
     "end_time": "2023-01-29T01:16:14.528265",
     "exception": false,
     "start_time": "2023-01-29T01:16:14.511446",
     "status": "completed"
    },
    "tags": []
   },
   "source": [
    "Let's update the weights and biases using the gradients computed above."
   ]
  },
  {
   "cell_type": "code",
   "execution_count": 21,
   "id": "be808803",
   "metadata": {
    "execution": {
     "iopub.execute_input": "2023-01-29T01:16:14.564335Z",
     "iopub.status.busy": "2023-01-29T01:16:14.564011Z",
     "iopub.status.idle": "2023-01-29T01:16:14.571875Z",
     "shell.execute_reply": "2023-01-29T01:16:14.570359Z"
    },
    "papermill": {
     "duration": 0.027842,
     "end_time": "2023-01-29T01:16:14.574421",
     "exception": false,
     "start_time": "2023-01-29T01:16:14.546579",
     "status": "completed"
    },
    "tags": []
   },
   "outputs": [],
   "source": [
    "# Adjust weights & reset gradients\n",
    "with torch.no_grad():\n",
    "    w -= w.grad * 1e-5\n",
    "    b -= b.grad * 1e-5\n",
    "    w.grad.zero_()\n",
    "    b.grad.zero_()"
   ]
  },
  {
   "cell_type": "markdown",
   "id": "14cdd633",
   "metadata": {
    "papermill": {
     "duration": 0.015956,
     "end_time": "2023-01-29T01:16:14.606939",
     "exception": false,
     "start_time": "2023-01-29T01:16:14.590983",
     "status": "completed"
    },
    "tags": []
   },
   "source": [
    "Let's take a look at the new weights and biases."
   ]
  },
  {
   "cell_type": "code",
   "execution_count": 22,
   "id": "7ed90183",
   "metadata": {
    "execution": {
     "iopub.execute_input": "2023-01-29T01:16:14.641105Z",
     "iopub.status.busy": "2023-01-29T01:16:14.640670Z",
     "iopub.status.idle": "2023-01-29T01:16:14.648228Z",
     "shell.execute_reply": "2023-01-29T01:16:14.646044Z"
    },
    "papermill": {
     "duration": 0.027697,
     "end_time": "2023-01-29T01:16:14.650908",
     "exception": false,
     "start_time": "2023-01-29T01:16:14.623211",
     "status": "completed"
    },
    "tags": []
   },
   "outputs": [
    {
     "name": "stdout",
     "output_type": "stream",
     "text": [
      "tensor([[-0.9377,  0.1990,  1.1008],\n",
      "        [-0.2660,  0.7234, -0.8363]], requires_grad=True)\n",
      "tensor([-0.6904, -0.3865], requires_grad=True)\n"
     ]
    }
   ],
   "source": [
    "print(w)\n",
    "print(b)"
   ]
  },
  {
   "cell_type": "markdown",
   "id": "bed5c342",
   "metadata": {
    "papermill": {
     "duration": 0.018042,
     "end_time": "2023-01-29T01:16:14.685734",
     "exception": false,
     "start_time": "2023-01-29T01:16:14.667692",
     "status": "completed"
    },
    "tags": []
   },
   "source": [
    "With the new weights and biases, the model should have a lower loss."
   ]
  },
  {
   "cell_type": "code",
   "execution_count": 23,
   "id": "4cfdbff3",
   "metadata": {
    "execution": {
     "iopub.execute_input": "2023-01-29T01:16:14.720994Z",
     "iopub.status.busy": "2023-01-29T01:16:14.720658Z",
     "iopub.status.idle": "2023-01-29T01:16:14.728231Z",
     "shell.execute_reply": "2023-01-29T01:16:14.726705Z"
    },
    "papermill": {
     "duration": 0.028558,
     "end_time": "2023-01-29T01:16:14.730769",
     "exception": false,
     "start_time": "2023-01-29T01:16:14.702211",
     "status": "completed"
    },
    "tags": []
   },
   "outputs": [
    {
     "name": "stdout",
     "output_type": "stream",
     "text": [
      "tensor(8388.4961, grad_fn=<DivBackward0>)\n"
     ]
    }
   ],
   "source": [
    "# Calculate loss\n",
    "preds = model(inputs)\n",
    "loss = mse(preds, targets)\n",
    "print(loss)"
   ]
  },
  {
   "cell_type": "markdown",
   "id": "3bc59978",
   "metadata": {
    "papermill": {
     "duration": 0.016479,
     "end_time": "2023-01-29T01:16:14.764435",
     "exception": false,
     "start_time": "2023-01-29T01:16:14.747956",
     "status": "completed"
    },
    "tags": []
   },
   "source": [
    "We have already achieved a significant reduction in the loss merely by adjusting the weights and biases slightly using gradient descent."
   ]
  },
  {
   "cell_type": "markdown",
   "id": "ac1a4ecb",
   "metadata": {
    "papermill": {
     "duration": 0.01725,
     "end_time": "2023-01-29T01:16:14.798595",
     "exception": false,
     "start_time": "2023-01-29T01:16:14.781345",
     "status": "completed"
    },
    "tags": []
   },
   "source": [
    "## Train for multiple epochs\n",
    "\n",
    "To reduce the loss further, we can repeat the process of adjusting the weights and biases using the gradients multiple times. Each iteration is called an _epoch_. Let's train the model for 100 epochs."
   ]
  },
  {
   "cell_type": "code",
   "execution_count": 24,
   "id": "6f95fdd5",
   "metadata": {
    "execution": {
     "iopub.execute_input": "2023-01-29T01:16:14.834226Z",
     "iopub.status.busy": "2023-01-29T01:16:14.833883Z",
     "iopub.status.idle": "2023-01-29T01:16:14.856305Z",
     "shell.execute_reply": "2023-01-29T01:16:14.854271Z"
    },
    "papermill": {
     "duration": 0.043242,
     "end_time": "2023-01-29T01:16:14.858841",
     "exception": false,
     "start_time": "2023-01-29T01:16:14.815599",
     "status": "completed"
    },
    "tags": []
   },
   "outputs": [],
   "source": [
    "# Train for 100 epochs\n",
    "for i in range(100):\n",
    "    preds = model(inputs)\n",
    "    loss = mse(preds, targets)\n",
    "    loss.backward()\n",
    "    with torch.no_grad():\n",
    "        w -= w.grad * 1e-5\n",
    "        b -= b.grad * 1e-5\n",
    "        w.grad.zero_()\n",
    "        b.grad.zero_()"
   ]
  },
  {
   "cell_type": "markdown",
   "id": "44bb0f98",
   "metadata": {
    "papermill": {
     "duration": 0.016322,
     "end_time": "2023-01-29T01:16:14.892313",
     "exception": false,
     "start_time": "2023-01-29T01:16:14.875991",
     "status": "completed"
    },
    "tags": []
   },
   "source": [
    "Once again, let's verify that the loss is now lower:"
   ]
  },
  {
   "cell_type": "code",
   "execution_count": 25,
   "id": "b48e31a9",
   "metadata": {
    "execution": {
     "iopub.execute_input": "2023-01-29T01:16:14.927486Z",
     "iopub.status.busy": "2023-01-29T01:16:14.927099Z",
     "iopub.status.idle": "2023-01-29T01:16:14.933822Z",
     "shell.execute_reply": "2023-01-29T01:16:14.932799Z"
    },
    "papermill": {
     "duration": 0.02662,
     "end_time": "2023-01-29T01:16:14.935577",
     "exception": false,
     "start_time": "2023-01-29T01:16:14.908957",
     "status": "completed"
    },
    "tags": []
   },
   "outputs": [
    {
     "name": "stdout",
     "output_type": "stream",
     "text": [
      "tensor(119.9552, grad_fn=<DivBackward0>)\n"
     ]
    }
   ],
   "source": [
    "# Calculate loss\n",
    "preds = model(inputs)\n",
    "loss = mse(preds, targets)\n",
    "print(loss)"
   ]
  },
  {
   "cell_type": "markdown",
   "id": "e2a7054d",
   "metadata": {
    "papermill": {
     "duration": 0.016287,
     "end_time": "2023-01-29T01:16:14.969075",
     "exception": false,
     "start_time": "2023-01-29T01:16:14.952788",
     "status": "completed"
    },
    "tags": []
   },
   "source": [
    "The loss is now much lower than its initial value. Let's look at the model's predictions and compare them with the targets."
   ]
  },
  {
   "cell_type": "code",
   "execution_count": 26,
   "id": "b52e86fc",
   "metadata": {
    "execution": {
     "iopub.execute_input": "2023-01-29T01:16:15.004966Z",
     "iopub.status.busy": "2023-01-29T01:16:15.004647Z",
     "iopub.status.idle": "2023-01-29T01:16:15.010424Z",
     "shell.execute_reply": "2023-01-29T01:16:15.009589Z"
    },
    "papermill": {
     "duration": 0.025401,
     "end_time": "2023-01-29T01:16:15.012102",
     "exception": false,
     "start_time": "2023-01-29T01:16:14.986701",
     "status": "completed"
    },
    "tags": []
   },
   "outputs": [
    {
     "data": {
      "text/plain": [
       "tensor([[ 56.4480,  72.2689],\n",
       "        [ 86.7128,  91.6142],\n",
       "        [109.5959, 150.4025],\n",
       "        [ 18.0839,  47.7312],\n",
       "        [111.3731,  97.0549]], grad_fn=<AddBackward0>)"
      ]
     },
     "execution_count": 26,
     "metadata": {},
     "output_type": "execute_result"
    }
   ],
   "source": [
    "# Predictions\n",
    "preds"
   ]
  },
  {
   "cell_type": "code",
   "execution_count": 27,
   "id": "f9ad7fdc",
   "metadata": {
    "execution": {
     "iopub.execute_input": "2023-01-29T01:16:15.047999Z",
     "iopub.status.busy": "2023-01-29T01:16:15.047656Z",
     "iopub.status.idle": "2023-01-29T01:16:15.053062Z",
     "shell.execute_reply": "2023-01-29T01:16:15.052449Z"
    },
    "papermill": {
     "duration": 0.025895,
     "end_time": "2023-01-29T01:16:15.054745",
     "exception": false,
     "start_time": "2023-01-29T01:16:15.028850",
     "status": "completed"
    },
    "tags": []
   },
   "outputs": [
    {
     "data": {
      "text/plain": [
       "tensor([[ 56.,  70.],\n",
       "        [ 81., 101.],\n",
       "        [119., 133.],\n",
       "        [ 22.,  37.],\n",
       "        [103., 119.]])"
      ]
     },
     "execution_count": 27,
     "metadata": {},
     "output_type": "execute_result"
    }
   ],
   "source": [
    "# Targets\n",
    "targets"
   ]
  },
  {
   "cell_type": "markdown",
   "id": "ea857ed7",
   "metadata": {
    "papermill": {
     "duration": 0.016672,
     "end_time": "2023-01-29T01:16:15.088271",
     "exception": false,
     "start_time": "2023-01-29T01:16:15.071599",
     "status": "completed"
    },
    "tags": []
   },
   "source": [
    "The predictions are now quite close to the target variables. We can get even better results by training for a few more epochs. "
   ]
  },
  {
   "cell_type": "markdown",
   "id": "0e32531e",
   "metadata": {
    "papermill": {
     "duration": 0.018158,
     "end_time": "2023-01-29T01:16:15.123227",
     "exception": false,
     "start_time": "2023-01-29T01:16:15.105069",
     "status": "completed"
    },
    "tags": []
   },
   "source": [
    "## Linear regression using PyTorch built-ins\n",
    "\n",
    "We've implemented linear regression & gradient descent model using some basic tensor operations. However, since this is a common pattern in deep learning, PyTorch provides several built-in functions and classes to make it easy to create and train models with just a few lines of code.\n",
    "\n",
    "Let's begin by importing the `torch.nn` package from PyTorch, which contains utility classes for building neural networks."
   ]
  },
  {
   "cell_type": "code",
   "execution_count": 28,
   "id": "93b401d8",
   "metadata": {
    "execution": {
     "iopub.execute_input": "2023-01-29T01:16:15.159217Z",
     "iopub.status.busy": "2023-01-29T01:16:15.158903Z",
     "iopub.status.idle": "2023-01-29T01:16:15.163881Z",
     "shell.execute_reply": "2023-01-29T01:16:15.162391Z"
    },
    "papermill": {
     "duration": 0.026084,
     "end_time": "2023-01-29T01:16:15.166200",
     "exception": false,
     "start_time": "2023-01-29T01:16:15.140116",
     "status": "completed"
    },
    "tags": []
   },
   "outputs": [],
   "source": [
    "import torch.nn as nn"
   ]
  },
  {
   "cell_type": "markdown",
   "id": "dc40f381",
   "metadata": {
    "papermill": {
     "duration": 0.016281,
     "end_time": "2023-01-29T01:16:15.199243",
     "exception": false,
     "start_time": "2023-01-29T01:16:15.182962",
     "status": "completed"
    },
    "tags": []
   },
   "source": [
    "As before, we represent the inputs and targets and matrices."
   ]
  },
  {
   "cell_type": "code",
   "execution_count": 29,
   "id": "828c1414",
   "metadata": {
    "execution": {
     "iopub.execute_input": "2023-01-29T01:16:15.235062Z",
     "iopub.status.busy": "2023-01-29T01:16:15.234731Z",
     "iopub.status.idle": "2023-01-29T01:16:15.243870Z",
     "shell.execute_reply": "2023-01-29T01:16:15.242230Z"
    },
    "papermill": {
     "duration": 0.029494,
     "end_time": "2023-01-29T01:16:15.246212",
     "exception": false,
     "start_time": "2023-01-29T01:16:15.216718",
     "status": "completed"
    },
    "tags": []
   },
   "outputs": [],
   "source": [
    "# Input (temp, rainfall, humidity)\n",
    "inputs = np.array([[73, 67, 43], \n",
    "                   [91, 88, 64], \n",
    "                   [87, 134, 58], \n",
    "                   [102, 43, 37], \n",
    "                   [69, 96, 70], \n",
    "                   [74, 66, 43], \n",
    "                   [91, 87, 65], \n",
    "                   [88, 134, 59], \n",
    "                   [101, 44, 37], \n",
    "                   [68, 96, 71], \n",
    "                   [73, 66, 44], \n",
    "                   [92, 87, 64], \n",
    "                   [87, 135, 57], \n",
    "                   [103, 43, 36], \n",
    "                   [68, 97, 70]], \n",
    "                  dtype='float32')\n",
    "\n",
    "# Targets (apples, oranges)\n",
    "targets = np.array([[56, 70], \n",
    "                    [81, 101], \n",
    "                    [119, 133], \n",
    "                    [22, 37], \n",
    "                    [103, 119],\n",
    "                    [57, 69], \n",
    "                    [80, 102], \n",
    "                    [118, 132], \n",
    "                    [21, 38], \n",
    "                    [104, 118], \n",
    "                    [57, 69], \n",
    "                    [82, 100], \n",
    "                    [118, 134], \n",
    "                    [20, 38], \n",
    "                    [102, 120]], \n",
    "                   dtype='float32')\n",
    "\n",
    "inputs = torch.from_numpy(inputs)\n",
    "targets = torch.from_numpy(targets)"
   ]
  },
  {
   "cell_type": "code",
   "execution_count": 30,
   "id": "1f30ab0b",
   "metadata": {
    "execution": {
     "iopub.execute_input": "2023-01-29T01:16:15.282799Z",
     "iopub.status.busy": "2023-01-29T01:16:15.282293Z",
     "iopub.status.idle": "2023-01-29T01:16:15.290080Z",
     "shell.execute_reply": "2023-01-29T01:16:15.289355Z"
    },
    "papermill": {
     "duration": 0.027821,
     "end_time": "2023-01-29T01:16:15.291820",
     "exception": false,
     "start_time": "2023-01-29T01:16:15.263999",
     "status": "completed"
    },
    "tags": []
   },
   "outputs": [
    {
     "data": {
      "text/plain": [
       "tensor([[ 73.,  67.,  43.],\n",
       "        [ 91.,  88.,  64.],\n",
       "        [ 87., 134.,  58.],\n",
       "        [102.,  43.,  37.],\n",
       "        [ 69.,  96.,  70.],\n",
       "        [ 74.,  66.,  43.],\n",
       "        [ 91.,  87.,  65.],\n",
       "        [ 88., 134.,  59.],\n",
       "        [101.,  44.,  37.],\n",
       "        [ 68.,  96.,  71.],\n",
       "        [ 73.,  66.,  44.],\n",
       "        [ 92.,  87.,  64.],\n",
       "        [ 87., 135.,  57.],\n",
       "        [103.,  43.,  36.],\n",
       "        [ 68.,  97.,  70.]])"
      ]
     },
     "execution_count": 30,
     "metadata": {},
     "output_type": "execute_result"
    }
   ],
   "source": [
    "inputs"
   ]
  },
  {
   "cell_type": "markdown",
   "id": "9e42cf5e",
   "metadata": {
    "papermill": {
     "duration": 0.016633,
     "end_time": "2023-01-29T01:16:15.325607",
     "exception": false,
     "start_time": "2023-01-29T01:16:15.308974",
     "status": "completed"
    },
    "tags": []
   },
   "source": [
    "We are using 15 training examples to illustrate how to work with large datasets in small batches. "
   ]
  },
  {
   "cell_type": "markdown",
   "id": "08aad4b9",
   "metadata": {
    "papermill": {
     "duration": 0.016598,
     "end_time": "2023-01-29T01:16:15.359513",
     "exception": false,
     "start_time": "2023-01-29T01:16:15.342915",
     "status": "completed"
    },
    "tags": []
   },
   "source": [
    "## Dataset and DataLoader\n",
    "\n",
    "We'll create a `TensorDataset`, which allows access to rows from `inputs` and `targets` as tuples, and provides standard APIs for working with many different types of datasets in PyTorch."
   ]
  },
  {
   "cell_type": "code",
   "execution_count": 31,
   "id": "42ad256e",
   "metadata": {
    "execution": {
     "iopub.execute_input": "2023-01-29T01:16:15.394905Z",
     "iopub.status.busy": "2023-01-29T01:16:15.394586Z",
     "iopub.status.idle": "2023-01-29T01:16:15.398597Z",
     "shell.execute_reply": "2023-01-29T01:16:15.397851Z"
    },
    "papermill": {
     "duration": 0.024371,
     "end_time": "2023-01-29T01:16:15.400855",
     "exception": false,
     "start_time": "2023-01-29T01:16:15.376484",
     "status": "completed"
    },
    "tags": []
   },
   "outputs": [],
   "source": [
    "from torch.utils.data import TensorDataset"
   ]
  },
  {
   "cell_type": "code",
   "execution_count": 32,
   "id": "6e9d0be5",
   "metadata": {
    "execution": {
     "iopub.execute_input": "2023-01-29T01:16:15.438685Z",
     "iopub.status.busy": "2023-01-29T01:16:15.438123Z",
     "iopub.status.idle": "2023-01-29T01:16:15.444935Z",
     "shell.execute_reply": "2023-01-29T01:16:15.443669Z"
    },
    "papermill": {
     "duration": 0.028284,
     "end_time": "2023-01-29T01:16:15.446890",
     "exception": false,
     "start_time": "2023-01-29T01:16:15.418606",
     "status": "completed"
    },
    "tags": []
   },
   "outputs": [
    {
     "data": {
      "text/plain": [
       "(tensor([[ 73.,  67.,  43.],\n",
       "         [ 91.,  88.,  64.],\n",
       "         [ 87., 134.,  58.]]),\n",
       " tensor([[ 56.,  70.],\n",
       "         [ 81., 101.],\n",
       "         [119., 133.]]))"
      ]
     },
     "execution_count": 32,
     "metadata": {},
     "output_type": "execute_result"
    }
   ],
   "source": [
    "# Define dataset\n",
    "train_ds = TensorDataset(inputs, targets)\n",
    "train_ds[0:3]"
   ]
  },
  {
   "cell_type": "markdown",
   "id": "99feecdb",
   "metadata": {
    "papermill": {
     "duration": 0.017206,
     "end_time": "2023-01-29T01:16:15.480938",
     "exception": false,
     "start_time": "2023-01-29T01:16:15.463732",
     "status": "completed"
    },
    "tags": []
   },
   "source": [
    "The `TensorDataset` allows us to access a small section of the training data using the array indexing notation (`[0:3]` in the above code). It returns a tuple with two elements. The first element contains the input variables for the selected rows, and the second contains the targets."
   ]
  },
  {
   "cell_type": "markdown",
   "id": "a16417a9",
   "metadata": {
    "papermill": {
     "duration": 0.016939,
     "end_time": "2023-01-29T01:16:15.515153",
     "exception": false,
     "start_time": "2023-01-29T01:16:15.498214",
     "status": "completed"
    },
    "tags": []
   },
   "source": [
    "We'll also create a `DataLoader`, which can split the data into batches of a predefined size while training. It also provides other utilities like shuffling and random sampling of the data."
   ]
  },
  {
   "cell_type": "code",
   "execution_count": 33,
   "id": "615fff37",
   "metadata": {
    "execution": {
     "iopub.execute_input": "2023-01-29T01:16:15.551905Z",
     "iopub.status.busy": "2023-01-29T01:16:15.551185Z",
     "iopub.status.idle": "2023-01-29T01:16:15.555279Z",
     "shell.execute_reply": "2023-01-29T01:16:15.554295Z"
    },
    "papermill": {
     "duration": 0.024438,
     "end_time": "2023-01-29T01:16:15.557326",
     "exception": false,
     "start_time": "2023-01-29T01:16:15.532888",
     "status": "completed"
    },
    "tags": []
   },
   "outputs": [],
   "source": [
    "from torch.utils.data import DataLoader"
   ]
  },
  {
   "cell_type": "code",
   "execution_count": 34,
   "id": "51a32c8b",
   "metadata": {
    "execution": {
     "iopub.execute_input": "2023-01-29T01:16:15.593860Z",
     "iopub.status.busy": "2023-01-29T01:16:15.593523Z",
     "iopub.status.idle": "2023-01-29T01:16:15.598973Z",
     "shell.execute_reply": "2023-01-29T01:16:15.597307Z"
    },
    "papermill": {
     "duration": 0.026427,
     "end_time": "2023-01-29T01:16:15.601427",
     "exception": false,
     "start_time": "2023-01-29T01:16:15.575000",
     "status": "completed"
    },
    "tags": []
   },
   "outputs": [],
   "source": [
    "# Define data loader\n",
    "batch_size = 5\n",
    "train_dl = DataLoader(train_ds, batch_size, shuffle=True)"
   ]
  },
  {
   "cell_type": "markdown",
   "id": "767c1d96",
   "metadata": {
    "papermill": {
     "duration": 0.016641,
     "end_time": "2023-01-29T01:16:15.635012",
     "exception": false,
     "start_time": "2023-01-29T01:16:15.618371",
     "status": "completed"
    },
    "tags": []
   },
   "source": [
    "We can use the data loader in a `for` loop. Let's look at an example."
   ]
  },
  {
   "cell_type": "code",
   "execution_count": 35,
   "id": "d2698018",
   "metadata": {
    "execution": {
     "iopub.execute_input": "2023-01-29T01:16:15.670188Z",
     "iopub.status.busy": "2023-01-29T01:16:15.669902Z",
     "iopub.status.idle": "2023-01-29T01:16:15.681211Z",
     "shell.execute_reply": "2023-01-29T01:16:15.679984Z"
    },
    "papermill": {
     "duration": 0.031904,
     "end_time": "2023-01-29T01:16:15.683653",
     "exception": false,
     "start_time": "2023-01-29T01:16:15.651749",
     "status": "completed"
    },
    "tags": []
   },
   "outputs": [
    {
     "name": "stdout",
     "output_type": "stream",
     "text": [
      "tensor([[103.,  43.,  36.],\n",
      "        [ 91.,  87.,  65.],\n",
      "        [ 74.,  66.,  43.],\n",
      "        [ 87., 135.,  57.],\n",
      "        [ 92.,  87.,  64.]])\n",
      "tensor([[ 20.,  38.],\n",
      "        [ 80., 102.],\n",
      "        [ 57.,  69.],\n",
      "        [118., 134.],\n",
      "        [ 82., 100.]])\n"
     ]
    }
   ],
   "source": [
    "for xb, yb in train_dl:\n",
    "    print(xb)\n",
    "    print(yb)\n",
    "    break"
   ]
  },
  {
   "cell_type": "markdown",
   "id": "2e426436",
   "metadata": {
    "papermill": {
     "duration": 0.017475,
     "end_time": "2023-01-29T01:16:15.719626",
     "exception": false,
     "start_time": "2023-01-29T01:16:15.702151",
     "status": "completed"
    },
    "tags": []
   },
   "source": [
    "In each iteration, the data loader returns one batch of data with the given batch size. If `shuffle` is set to `True`, it shuffles the training data before creating batches. Shuffling helps randomize the input to the optimization algorithm, leading to a faster reduction in the loss."
   ]
  },
  {
   "cell_type": "markdown",
   "id": "7a24a42f",
   "metadata": {
    "papermill": {
     "duration": 0.017053,
     "end_time": "2023-01-29T01:16:15.754643",
     "exception": false,
     "start_time": "2023-01-29T01:16:15.737590",
     "status": "completed"
    },
    "tags": []
   },
   "source": [
    "## nn.Linear\n",
    "\n",
    "Instead of initializing the weights & biases manually, we can define the model using the `nn.Linear` class from PyTorch, which does it automatically."
   ]
  },
  {
   "cell_type": "code",
   "execution_count": 36,
   "id": "205d124d",
   "metadata": {
    "execution": {
     "iopub.execute_input": "2023-01-29T01:16:15.791514Z",
     "iopub.status.busy": "2023-01-29T01:16:15.791206Z",
     "iopub.status.idle": "2023-01-29T01:16:15.799176Z",
     "shell.execute_reply": "2023-01-29T01:16:15.797591Z"
    },
    "papermill": {
     "duration": 0.029457,
     "end_time": "2023-01-29T01:16:15.801810",
     "exception": false,
     "start_time": "2023-01-29T01:16:15.772353",
     "status": "completed"
    },
    "tags": []
   },
   "outputs": [
    {
     "name": "stdout",
     "output_type": "stream",
     "text": [
      "Parameter containing:\n",
      "tensor([[ 0.0332, -0.0056,  0.4561],\n",
      "        [-0.5531, -0.0733,  0.5257]], requires_grad=True)\n",
      "Parameter containing:\n",
      "tensor([ 0.5177, -0.0445], requires_grad=True)\n"
     ]
    }
   ],
   "source": [
    "# Define model\n",
    "model = nn.Linear(3, 2) # inputs, targets\n",
    "print(model.weight)\n",
    "print(model.bias)"
   ]
  },
  {
   "cell_type": "markdown",
   "id": "7b2d7c37",
   "metadata": {
    "papermill": {
     "duration": 0.016644,
     "end_time": "2023-01-29T01:16:15.835336",
     "exception": false,
     "start_time": "2023-01-29T01:16:15.818692",
     "status": "completed"
    },
    "tags": []
   },
   "source": [
    "PyTorch models also have a helpful `.parameters` method, which returns a list containing all the weights and bias matrices present in the model. For our linear regression model, we have one weight matrix and one bias matrix."
   ]
  },
  {
   "cell_type": "code",
   "execution_count": 37,
   "id": "ae4293d3",
   "metadata": {
    "execution": {
     "iopub.execute_input": "2023-01-29T01:16:15.872105Z",
     "iopub.status.busy": "2023-01-29T01:16:15.871802Z",
     "iopub.status.idle": "2023-01-29T01:16:15.878894Z",
     "shell.execute_reply": "2023-01-29T01:16:15.878254Z"
    },
    "papermill": {
     "duration": 0.028148,
     "end_time": "2023-01-29T01:16:15.880592",
     "exception": false,
     "start_time": "2023-01-29T01:16:15.852444",
     "status": "completed"
    },
    "tags": []
   },
   "outputs": [
    {
     "data": {
      "text/plain": [
       "[Parameter containing:\n",
       " tensor([[ 0.0332, -0.0056,  0.4561],\n",
       "         [-0.5531, -0.0733,  0.5257]], requires_grad=True),\n",
       " Parameter containing:\n",
       " tensor([ 0.5177, -0.0445], requires_grad=True)]"
      ]
     },
     "execution_count": 37,
     "metadata": {},
     "output_type": "execute_result"
    }
   ],
   "source": [
    "# Parameters\n",
    "list(model.parameters())"
   ]
  },
  {
   "cell_type": "markdown",
   "id": "43f8d241",
   "metadata": {
    "papermill": {
     "duration": 0.017446,
     "end_time": "2023-01-29T01:16:15.915921",
     "exception": false,
     "start_time": "2023-01-29T01:16:15.898475",
     "status": "completed"
    },
    "tags": []
   },
   "source": [
    "We can use the model to generate predictions in the same way as before."
   ]
  },
  {
   "cell_type": "code",
   "execution_count": 38,
   "id": "70eb9195",
   "metadata": {
    "execution": {
     "iopub.execute_input": "2023-01-29T01:16:15.953044Z",
     "iopub.status.busy": "2023-01-29T01:16:15.951736Z",
     "iopub.status.idle": "2023-01-29T01:16:15.961877Z",
     "shell.execute_reply": "2023-01-29T01:16:15.960159Z"
    },
    "papermill": {
     "duration": 0.030758,
     "end_time": "2023-01-29T01:16:15.964068",
     "exception": false,
     "start_time": "2023-01-29T01:16:15.933310",
     "status": "completed"
    },
    "tags": []
   },
   "outputs": [
    {
     "data": {
      "text/plain": [
       "tensor([[ 22.1742, -22.7284],\n",
       "        [ 32.2307, -23.1844],\n",
       "        [ 29.1020, -27.4998],\n",
       "        [ 20.5362, -40.1618],\n",
       "        [ 34.1914,  -8.4492],\n",
       "        [ 22.2131, -23.2081],\n",
       "        [ 32.6924, -22.5854],\n",
       "        [ 29.5912, -27.5272],\n",
       "        [ 20.4974, -39.6820],\n",
       "        [ 34.6143,  -7.3704],\n",
       "        [ 22.6359, -22.1294],\n",
       "        [ 32.2696, -23.6642],\n",
       "        [ 28.6403, -28.0988],\n",
       "        [ 20.1134, -41.2405],\n",
       "        [ 34.1526,  -7.9695]], grad_fn=<AddmmBackward0>)"
      ]
     },
     "execution_count": 38,
     "metadata": {},
     "output_type": "execute_result"
    }
   ],
   "source": [
    "# Generate predictions\n",
    "preds = model(inputs)\n",
    "preds"
   ]
  },
  {
   "cell_type": "markdown",
   "id": "4a356a67",
   "metadata": {
    "papermill": {
     "duration": 0.017432,
     "end_time": "2023-01-29T01:16:15.999180",
     "exception": false,
     "start_time": "2023-01-29T01:16:15.981748",
     "status": "completed"
    },
    "tags": []
   },
   "source": [
    "## Loss Function\n",
    "\n",
    "Instead of defining a loss function manually, we can use the built-in loss function `mse_loss`."
   ]
  },
  {
   "cell_type": "code",
   "execution_count": 39,
   "id": "ead02201",
   "metadata": {
    "execution": {
     "iopub.execute_input": "2023-01-29T01:16:16.037264Z",
     "iopub.status.busy": "2023-01-29T01:16:16.035218Z",
     "iopub.status.idle": "2023-01-29T01:16:16.040192Z",
     "shell.execute_reply": "2023-01-29T01:16:16.039571Z"
    },
    "papermill": {
     "duration": 0.025067,
     "end_time": "2023-01-29T01:16:16.041703",
     "exception": false,
     "start_time": "2023-01-29T01:16:16.016636",
     "status": "completed"
    },
    "tags": []
   },
   "outputs": [],
   "source": [
    "# Import nn.functional\n",
    "import torch.nn.functional as F"
   ]
  },
  {
   "cell_type": "markdown",
   "id": "5a768544",
   "metadata": {
    "papermill": {
     "duration": 0.016913,
     "end_time": "2023-01-29T01:16:16.075735",
     "exception": false,
     "start_time": "2023-01-29T01:16:16.058822",
     "status": "completed"
    },
    "tags": []
   },
   "source": [
    "The `nn.functional` package contains many useful loss functions and several other utilities. "
   ]
  },
  {
   "cell_type": "code",
   "execution_count": 40,
   "id": "a280caad",
   "metadata": {
    "execution": {
     "iopub.execute_input": "2023-01-29T01:16:16.111205Z",
     "iopub.status.busy": "2023-01-29T01:16:16.110583Z",
     "iopub.status.idle": "2023-01-29T01:16:16.115948Z",
     "shell.execute_reply": "2023-01-29T01:16:16.113902Z"
    },
    "papermill": {
     "duration": 0.025647,
     "end_time": "2023-01-29T01:16:16.118284",
     "exception": false,
     "start_time": "2023-01-29T01:16:16.092637",
     "status": "completed"
    },
    "tags": []
   },
   "outputs": [],
   "source": [
    "# Define loss function\n",
    "loss_fn = F.mse_loss"
   ]
  },
  {
   "cell_type": "markdown",
   "id": "df99d4f0",
   "metadata": {
    "papermill": {
     "duration": 0.016586,
     "end_time": "2023-01-29T01:16:16.152016",
     "exception": false,
     "start_time": "2023-01-29T01:16:16.135430",
     "status": "completed"
    },
    "tags": []
   },
   "source": [
    "Let's compute the loss for the current predictions of our model."
   ]
  },
  {
   "cell_type": "code",
   "execution_count": 41,
   "id": "12e0dc20",
   "metadata": {
    "execution": {
     "iopub.execute_input": "2023-01-29T01:16:16.187936Z",
     "iopub.status.busy": "2023-01-29T01:16:16.187613Z",
     "iopub.status.idle": "2023-01-29T01:16:16.195777Z",
     "shell.execute_reply": "2023-01-29T01:16:16.194019Z"
    },
    "papermill": {
     "duration": 0.029568,
     "end_time": "2023-01-29T01:16:16.198712",
     "exception": false,
     "start_time": "2023-01-29T01:16:16.169144",
     "status": "completed"
    },
    "tags": []
   },
   "outputs": [
    {
     "name": "stdout",
     "output_type": "stream",
     "text": [
      "tensor(8813.1250, grad_fn=<MseLossBackward0>)\n"
     ]
    }
   ],
   "source": [
    "loss = loss_fn(model(inputs), targets)\n",
    "print(loss)"
   ]
  },
  {
   "cell_type": "markdown",
   "id": "08d20f32",
   "metadata": {
    "papermill": {
     "duration": 0.018382,
     "end_time": "2023-01-29T01:16:16.235144",
     "exception": false,
     "start_time": "2023-01-29T01:16:16.216762",
     "status": "completed"
    },
    "tags": []
   },
   "source": [
    "## Optimizer\n",
    "\n",
    "Instead of manually manipulating the model's weights & biases using gradients, we can use the optimizer `optim.SGD`. SGD is short for \"stochastic gradient descent\". The term _stochastic_ indicates that samples are selected in random batches instead of as a single group."
   ]
  },
  {
   "cell_type": "code",
   "execution_count": 42,
   "id": "ea518631",
   "metadata": {
    "execution": {
     "iopub.execute_input": "2023-01-29T01:16:16.271438Z",
     "iopub.status.busy": "2023-01-29T01:16:16.271049Z",
     "iopub.status.idle": "2023-01-29T01:16:16.276336Z",
     "shell.execute_reply": "2023-01-29T01:16:16.274781Z"
    },
    "papermill": {
     "duration": 0.026085,
     "end_time": "2023-01-29T01:16:16.278029",
     "exception": false,
     "start_time": "2023-01-29T01:16:16.251944",
     "status": "completed"
    },
    "tags": []
   },
   "outputs": [],
   "source": [
    "# Define optimizer\n",
    "opt = torch.optim.SGD(model.parameters(), lr=1e-5)"
   ]
  },
  {
   "cell_type": "markdown",
   "id": "6aedffe3",
   "metadata": {
    "papermill": {
     "duration": 0.016756,
     "end_time": "2023-01-29T01:16:16.311831",
     "exception": false,
     "start_time": "2023-01-29T01:16:16.295075",
     "status": "completed"
    },
    "tags": []
   },
   "source": [
    "Note that `model.parameters()` is passed as an argument to `optim.SGD` so that the optimizer knows which matrices should be modified during the update step. Also, we can specify a learning rate that controls the amount by which the parameters are modified."
   ]
  },
  {
   "cell_type": "markdown",
   "id": "7947a26e",
   "metadata": {
    "papermill": {
     "duration": 0.016438,
     "end_time": "2023-01-29T01:16:16.345321",
     "exception": false,
     "start_time": "2023-01-29T01:16:16.328883",
     "status": "completed"
    },
    "tags": []
   },
   "source": [
    "## Train the model\n",
    "\n",
    "We are now ready to train the model. We'll follow the same process to implement gradient descent:\n",
    "\n",
    "1. Generate predictions\n",
    "\n",
    "2. Calculate the loss\n",
    "\n",
    "3. Compute gradients w.r.t the weights and biases\n",
    "\n",
    "4. Adjust the weights by subtracting a small quantity proportional to the gradient\n",
    "\n",
    "5. Reset the gradients to zero\n",
    "\n",
    "The only change is that we'll work batches of data instead of processing the entire training data in every iteration. Let's define a utility function `fit` that trains the model for a given number of epochs."
   ]
  },
  {
   "cell_type": "code",
   "execution_count": 43,
   "id": "fc2e6637",
   "metadata": {
    "execution": {
     "iopub.execute_input": "2023-01-29T01:16:16.381258Z",
     "iopub.status.busy": "2023-01-29T01:16:16.380950Z",
     "iopub.status.idle": "2023-01-29T01:16:16.387621Z",
     "shell.execute_reply": "2023-01-29T01:16:16.386584Z"
    },
    "papermill": {
     "duration": 0.026914,
     "end_time": "2023-01-29T01:16:16.389342",
     "exception": false,
     "start_time": "2023-01-29T01:16:16.362428",
     "status": "completed"
    },
    "tags": []
   },
   "outputs": [],
   "source": [
    "# Utility function to train the model\n",
    "def fit(num_epochs, model, loss_fn, opt, train_dl):\n",
    "    \n",
    "    # Repeat for given number of epochs\n",
    "    for epoch in range(num_epochs):\n",
    "        \n",
    "        # Train with batches of data\n",
    "        for xb,yb in train_dl:\n",
    "            \n",
    "            # 1. Generate predictions\n",
    "            pred = model(xb)\n",
    "            \n",
    "            # 2. Calculate loss\n",
    "            loss = loss_fn(pred, yb)\n",
    "            \n",
    "            # 3. Compute gradients\n",
    "            loss.backward()\n",
    "            \n",
    "            # 4. Update parameters using gradients\n",
    "            opt.step()\n",
    "            \n",
    "            # 5. Reset the gradients to zero\n",
    "            opt.zero_grad()\n",
    "        \n",
    "        # Print the progress\n",
    "        if (epoch+1) % 10 == 0:\n",
    "            print('Epoch [{}/{}], Loss: {:.4f}'.format(epoch+1, num_epochs, loss.item()))"
   ]
  },
  {
   "cell_type": "markdown",
   "id": "d0920484",
   "metadata": {
    "papermill": {
     "duration": 0.016619,
     "end_time": "2023-01-29T01:16:16.423004",
     "exception": false,
     "start_time": "2023-01-29T01:16:16.406385",
     "status": "completed"
    },
    "tags": []
   },
   "source": [
    "Some things to note above:\n",
    "\n",
    "* We use the data loader defined earlier to get batches of data for every iteration.\n",
    "\n",
    "* Instead of updating parameters (weights and biases) manually, we use `opt.step` to perform the update and `opt.zero_grad` to reset the gradients to zero.\n",
    "\n",
    "* We've also added a log statement that prints the loss from the last batch of data for every 10th epoch to track training progress. `loss.item` returns the actual value stored in the loss tensor.\n",
    "\n",
    "Let's train the model for 100 epochs."
   ]
  },
  {
   "cell_type": "code",
   "execution_count": 44,
   "id": "b3c4321a",
   "metadata": {
    "execution": {
     "iopub.execute_input": "2023-01-29T01:16:16.458518Z",
     "iopub.status.busy": "2023-01-29T01:16:16.458202Z",
     "iopub.status.idle": "2023-01-29T01:16:16.549426Z",
     "shell.execute_reply": "2023-01-29T01:16:16.548183Z"
    },
    "papermill": {
     "duration": 0.112247,
     "end_time": "2023-01-29T01:16:16.552129",
     "exception": false,
     "start_time": "2023-01-29T01:16:16.439882",
     "status": "completed"
    },
    "tags": []
   },
   "outputs": [
    {
     "name": "stdout",
     "output_type": "stream",
     "text": [
      "Epoch [10/100], Loss: 182.1114\n",
      "Epoch [20/100], Loss: 162.3119\n",
      "Epoch [30/100], Loss: 61.2271\n",
      "Epoch [40/100], Loss: 67.4412\n",
      "Epoch [50/100], Loss: 47.1698\n",
      "Epoch [60/100], Loss: 31.2045\n",
      "Epoch [70/100], Loss: 5.2969\n",
      "Epoch [80/100], Loss: 19.3013\n",
      "Epoch [90/100], Loss: 10.2968\n",
      "Epoch [100/100], Loss: 6.3872\n"
     ]
    }
   ],
   "source": [
    "fit(100, model, loss_fn, opt, train_dl)"
   ]
  },
  {
   "cell_type": "markdown",
   "id": "2966f1d1",
   "metadata": {
    "papermill": {
     "duration": 0.017215,
     "end_time": "2023-01-29T01:16:16.587093",
     "exception": false,
     "start_time": "2023-01-29T01:16:16.569878",
     "status": "completed"
    },
    "tags": []
   },
   "source": [
    "Let's generate predictions using our model and verify that they're close to our targets."
   ]
  },
  {
   "cell_type": "code",
   "execution_count": 45,
   "id": "a4a161fc",
   "metadata": {
    "execution": {
     "iopub.execute_input": "2023-01-29T01:16:16.623941Z",
     "iopub.status.busy": "2023-01-29T01:16:16.623180Z",
     "iopub.status.idle": "2023-01-29T01:16:16.630177Z",
     "shell.execute_reply": "2023-01-29T01:16:16.628916Z"
    },
    "papermill": {
     "duration": 0.027745,
     "end_time": "2023-01-29T01:16:16.632394",
     "exception": false,
     "start_time": "2023-01-29T01:16:16.604649",
     "status": "completed"
    },
    "tags": []
   },
   "outputs": [
    {
     "data": {
      "text/plain": [
       "tensor([[ 58.1406,  70.8616],\n",
       "        [ 82.8471, 101.1619],\n",
       "        [114.9067, 130.9431],\n",
       "        [ 26.8535,  40.2846],\n",
       "        [ 99.8229, 118.0782],\n",
       "        [ 57.0721,  69.8675],\n",
       "        [ 82.7706, 101.3292],\n",
       "        [115.2800, 131.6056],\n",
       "        [ 27.9220,  41.2787],\n",
       "        [100.8149, 119.2396],\n",
       "        [ 58.0641,  71.0289],\n",
       "        [ 81.7786, 100.1679],\n",
       "        [114.9832, 130.7758],\n",
       "        [ 25.8614,  39.1232],\n",
       "        [100.8914, 119.0723]], grad_fn=<AddmmBackward0>)"
      ]
     },
     "execution_count": 45,
     "metadata": {},
     "output_type": "execute_result"
    }
   ],
   "source": [
    "# Generate predictions\n",
    "preds = model(inputs)\n",
    "preds"
   ]
  },
  {
   "cell_type": "code",
   "execution_count": 46,
   "id": "90082a9b",
   "metadata": {
    "execution": {
     "iopub.execute_input": "2023-01-29T01:16:16.668634Z",
     "iopub.status.busy": "2023-01-29T01:16:16.668105Z",
     "iopub.status.idle": "2023-01-29T01:16:16.674084Z",
     "shell.execute_reply": "2023-01-29T01:16:16.673490Z"
    },
    "papermill": {
     "duration": 0.02588,
     "end_time": "2023-01-29T01:16:16.675662",
     "exception": false,
     "start_time": "2023-01-29T01:16:16.649782",
     "status": "completed"
    },
    "tags": []
   },
   "outputs": [
    {
     "data": {
      "text/plain": [
       "tensor([[ 56.,  70.],\n",
       "        [ 81., 101.],\n",
       "        [119., 133.],\n",
       "        [ 22.,  37.],\n",
       "        [103., 119.],\n",
       "        [ 57.,  69.],\n",
       "        [ 80., 102.],\n",
       "        [118., 132.],\n",
       "        [ 21.,  38.],\n",
       "        [104., 118.],\n",
       "        [ 57.,  69.],\n",
       "        [ 82., 100.],\n",
       "        [118., 134.],\n",
       "        [ 20.,  38.],\n",
       "        [102., 120.]])"
      ]
     },
     "execution_count": 46,
     "metadata": {},
     "output_type": "execute_result"
    }
   ],
   "source": [
    "# Compare with targets\n",
    "targets"
   ]
  },
  {
   "cell_type": "markdown",
   "id": "fc69a628",
   "metadata": {
    "papermill": {
     "duration": 0.017532,
     "end_time": "2023-01-29T01:16:16.710798",
     "exception": false,
     "start_time": "2023-01-29T01:16:16.693266",
     "status": "completed"
    },
    "tags": []
   },
   "source": [
    "Indeed, the predictions are quite close to our targets. We have a trained a reasonably good model to predict crop yields for apples and oranges by looking at the average temperature, rainfall, and humidity in a region. We can use it to make predictions of crop yields for new regions by passing a batch containing a single row of input."
   ]
  },
  {
   "cell_type": "code",
   "execution_count": 47,
   "id": "198e79ab",
   "metadata": {
    "execution": {
     "iopub.execute_input": "2023-01-29T01:16:16.747063Z",
     "iopub.status.busy": "2023-01-29T01:16:16.746508Z",
     "iopub.status.idle": "2023-01-29T01:16:16.752409Z",
     "shell.execute_reply": "2023-01-29T01:16:16.751816Z"
    },
    "papermill": {
     "duration": 0.025893,
     "end_time": "2023-01-29T01:16:16.754029",
     "exception": false,
     "start_time": "2023-01-29T01:16:16.728136",
     "status": "completed"
    },
    "tags": []
   },
   "outputs": [
    {
     "data": {
      "text/plain": [
       "tensor([[55.1680, 68.2960]], grad_fn=<AddmmBackward0>)"
      ]
     },
     "execution_count": 47,
     "metadata": {},
     "output_type": "execute_result"
    }
   ],
   "source": [
    "model(torch.tensor([[75, 63, 44.]]))"
   ]
  },
  {
   "cell_type": "markdown",
   "id": "4edc2fb3",
   "metadata": {
    "papermill": {
     "duration": 0.01669,
     "end_time": "2023-01-29T01:16:16.788099",
     "exception": false,
     "start_time": "2023-01-29T01:16:16.771409",
     "status": "completed"
    },
    "tags": []
   },
   "source": [
    "The predicted yield of apples is 54.3 tons per hectare, and that of oranges is 68.3 tons per hectare."
   ]
  },
  {
   "cell_type": "markdown",
   "id": "14cb07d3",
   "metadata": {
    "papermill": {
     "duration": 0.016921,
     "end_time": "2023-01-29T01:16:16.822143",
     "exception": false,
     "start_time": "2023-01-29T01:16:16.805222",
     "status": "completed"
    },
    "tags": []
   },
   "source": [
    "## Machine Learning vs. Classical Programming\n",
    "\n",
    "The approach we've taken in this tutorial is very different from programming as you might know it. Usually, we write programs that take some inputs, perform some operations, and return a result. \n",
    "\n",
    "However, in this notebook, we've defined a \"model\" that assumes a specific relationship between the inputs and the outputs, expressed using some unknown parameters (weights & biases). We then show the model some know inputs and outputs and _train_ the model to come up with good values for the unknown parameters. Once trained, the model can be used to compute the outputs for new inputs.\n",
    "\n",
    "This paradigm of programming is known as _machine learning_, where we use data to figure out the relationship between inputs and outputs. _Deep learning_ is a branch of machine learning that uses matrix operations, non-linear activation functions and gradient descent to build and train models. Andrej Karpathy, the director of AI at Tesla Motors, has written a great blog post on this topics, titled [Software 2.0](https://medium.com/@karpathy/software-2-0-a64152b37c35).\n",
    "\n",
    "This picture from book [Deep Learning with Python](https://www.manning.com/books/deep-learning-with-python) by Francois Chollet captures the difference between classical programming and machine learning:\n",
    "\n",
    "![](https://i.imgur.com/oJEQe7k.png)\n",
    "\n",
    "Keep this picture in mind as you work through the next few tutorials. \n",
    "\n"
   ]
  },
  {
   "cell_type": "markdown",
   "id": "d1f2e2f5",
   "metadata": {
    "papermill": {
     "duration": 0.018123,
     "end_time": "2023-01-29T01:16:16.857779",
     "exception": false,
     "start_time": "2023-01-29T01:16:16.839656",
     "status": "completed"
    },
    "tags": []
   },
   "source": [
    "## Exercises and Further Reading\n",
    "\n",
    "We've covered the following topics in this tutorial:\n",
    "\n",
    "- Introduction to linear regression and gradient descent\n",
    "- Implementing a linear regression model using PyTorch tensors\n",
    "- Training a linear regression model using the gradient descent algorithm\n",
    "- Implementing gradient descent and linear regression using PyTorch built-in\n",
    "\n",
    "\n",
    "Here are some resources for learning more about linear regression and gradient descent:\n",
    "\n",
    "* An visual & animated explanation of gradient descent: https://www.youtube.com/watch?v=IHZwWFHWa-w\n",
    "\n",
    "* For a more detailed explanation of derivates and gradient descent, see [these notes from a Udacity course](https://storage.googleapis.com/supplemental_media/udacityu/315142919/Gradient%20Descent.pdf). \n",
    "\n",
    "* For an animated visualization of how linear regression works, [see this post](https://hackernoon.com/visualizing-linear-regression-with-pytorch-9261f49edb09).\n",
    "\n",
    "* For a more mathematical treatment of matrix calculus, linear regression and gradient descent, you should check out [Andrew Ng's excellent course notes](https://github.com/Cleo-Stanford-CS/CS229_Notes/blob/master/lectures/cs229-notes1.pdf) from CS229 at Stanford University.\n",
    "\n",
    "* To practice and test your skills, you can participate in the [Boston Housing Price Prediction](https://www.kaggle.com/c/boston-housing) competition on Kaggle, a website that hosts data science competitions.\n",
    "\n",
    "With this, we complete our discussion of linear regression in PyTorch, and we’re ready to move on to the next topic: [Working with Images & Logistic Regression](https://jovian.ai/aakashns/03-logistic-regression)."
   ]
  },
  {
   "cell_type": "markdown",
   "id": "6f0ec584",
   "metadata": {
    "papermill": {
     "duration": 0.018755,
     "end_time": "2023-01-29T01:16:16.895592",
     "exception": false,
     "start_time": "2023-01-29T01:16:16.876837",
     "status": "completed"
    },
    "tags": []
   },
   "source": [
    "## Questions for Review\n",
    "\n",
    "Try answering the following questions to test your understanding of the topics covered in this notebook:\n",
    "\n",
    "1. What is a linear regression model? Give an example of a problem formulated as a linear regression model.\n",
    "2. What are input and target variables in a dataset? Give an example.\n",
    "3. What are weights and biases in a linear regression model?\n",
    "4. How do you represent tabular data using PyTorch tensors?\n",
    "5. Why do we create separate matrices for inputs and targets while training a linear regression model?\n",
    "6. How do you determine the shape of the weights matrix & bias vector given some training data?\n",
    "7. How do you create randomly initialized weights & biases with a given shape?\n",
    "8. How is a linear regression model implemented using matrix operations? Explain with an example.\n",
    "9. How do you generate predictions using a linear regression model?\n",
    "10. Why are the predictions of a randomly initialized model different from the actual targets?\n",
    "11. What is a loss function? What does the term “loss” signify?\n",
    "12. What is mean squared error?\n",
    "13. Write a function to calculate mean squared using model predictions and actual targets.\n",
    "14. What happens when you invoke the `.backward` function on the result of the mean squared error loss function?\n",
    "15. Why is the derivative of the loss w.r.t. the weights matrix itself a matrix? What do its elements represent?\n",
    "16. How is the derivate of the loss w.r.t. a weight element useful for reducing the loss? Explain with an example.\n",
    "17. Suppose the derivative  of the loss w.r.t. a weight element is positive. Should you increase or decrease the element’s value slightly to get a lower loss?\n",
    "18. Suppose the derivative  of the loss w.r.t. a weight element is negative. Should you increase or decrease the element’s value slightly to get a lower loss?\n",
    "19. How do you update the weights and biases of a model using their respective gradients to reduce the loss slightly?\n",
    "20. What is the gradient descent optimization algorithm? Why is it called “gradient descent”?\n",
    "21. Why do you subtract a “small quantity” proportional to the gradient from the weights & biases, not the actual gradient itself?\n",
    "22. What is learning rate? Why is it important?\n",
    "23. What is `torch.no_grad`?\n",
    "24. Why do you reset gradients to zero after updating weights and biases?\n",
    "25. What are the steps involved in training a linear regression model using gradient descent?\n",
    "26. What is an epoch?\n",
    "27. What is the benefit of training a model for multiple epochs?\n",
    "28. How do you make predictions using a trained model?\n",
    "29. What should you do if your model’s loss doesn’t decrease while training? Hint: learning rate.\n",
    "30. What is `torch.nn`?\n",
    "31. What is the purpose of the `TensorDataset` class in PyTorch? Give an example.\n",
    "32. What is a data loader in PyTorch? Give an example.\n",
    "33. How do you use a data loader to retrieve batches of data?\n",
    "34. What are the benefits of shuffling the training data before creating batches?\n",
    "35. What is the benefit of training in small batches instead of training with the entire dataset?\n",
    "36. What is the purpose of the `nn.Linear` class in PyTorch? Give an example.\n",
    "37. How do you see the weights and biases of a `nn.Linear` model?\n",
    "38. What is the purpose of the `torch.nn.functional` module?\n",
    "39. How do you compute mean squared error loss using a PyTorch built-in function?\n",
    "40. What is an optimizer in PyTorch?\n",
    "41. What is `torch.optim.SGD`? What does SGD stand for?\n",
    "42. What are the inputs to a PyTorch optimizer? \n",
    "43. Give an example of creating an optimizer for training a linear regression model.\n",
    "44. Write a function to train a `nn.Linear` model in batches using gradient descent.\n",
    "45. How do you use a linear regression model to make predictions on previously unseen data? ",
    "\n"
   ]
  }
 ],
 "metadata": {
  "kernelspec": {
   "display_name": "Python 3",
   "language": "python",
   "name": "python3"
  },
  "language_info": {
   "codemirror_mode": {
    "name": "ipython",
    "version": 3
   },
   "file_extension": ".py",
   "mimetype": "text/x-python",
   "name": "python",
   "nbconvert_exporter": "python",
   "pygments_lexer": "ipython3",
   "version": "3.7.12"
  },
  "papermill": {
   "default_parameters": {},
   "duration": 14.514827,
   "end_time": "2023-01-29T01:16:17.734028",
   "environment_variables": {},
   "exception": null,
   "input_path": "__notebook__.ipynb",
   "output_path": "__notebook__.ipynb",
   "parameters": {},
   "start_time": "2023-01-29T01:16:03.219201",
   "version": "2.3.4"
  }
 },
 "nbformat": 4,
 "nbformat_minor": 5
}
