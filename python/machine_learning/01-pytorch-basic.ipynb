{
 "cells": [
  {
   "cell_type": "markdown",
   "id": "9e1ea6b2",
   "metadata": {
    "id": "wGdTfyfrTEG0",
    "papermill": {
     "duration": 0.010706,
     "end_time": "2023-01-29T00:27:26.864860",
     "exception": false,
     "start_time": "2023-01-29T00:27:26.854154",
     "status": "completed"
    },
    "tags": []
   },
   "source": [
    "# PyTorch Basics: Tensors & Gradients\n"
   ]
  },
  {
   "cell_type": "code",
   "execution_count": 1,
   "id": "53d2b0b9",
   "metadata": {
    "execution": {
     "iopub.execute_input": "2023-01-29T00:27:26.886000Z",
     "iopub.status.busy": "2023-01-29T00:27:26.885242Z",
     "iopub.status.idle": "2023-01-29T00:27:28.881292Z",
     "shell.execute_reply": "2023-01-29T00:27:28.880206Z"
    },
    "id": "hXMCJplpTEG4",
    "papermill": {
     "duration": 2.009652,
     "end_time": "2023-01-29T00:27:28.884007",
     "exception": false,
     "start_time": "2023-01-29T00:27:26.874355",
     "status": "completed"
    },
    "tags": []
   },
   "outputs": [],
   "source": [
    "import torch"
   ]
  },
  {
   "cell_type": "markdown",
   "id": "13b2624f",
   "metadata": {
    "id": "-sWGfix7TEG5",
    "papermill": {
     "duration": 0.007652,
     "end_time": "2023-01-29T00:27:28.903011",
     "exception": false,
     "start_time": "2023-01-29T00:27:28.895359",
     "status": "completed"
    },
    "tags": []
   },
   "source": [
    "## Tensors\n",
    "\n",
    "At its core, PyTorch is a library for processing tensors. A tensor is a number, vector, matrix or any n-dimensional array. Let's create a tensor with a single number:"
   ]
  },
  {
   "cell_type": "code",
   "execution_count": 2,
   "id": "cabf7a77",
   "metadata": {
    "execution": {
     "iopub.execute_input": "2023-01-29T00:27:28.926927Z",
     "iopub.status.busy": "2023-01-29T00:27:28.925300Z",
     "iopub.status.idle": "2023-01-29T00:27:28.935991Z",
     "shell.execute_reply": "2023-01-29T00:27:28.935123Z"
    },
    "id": "xFb92nhzTEG5",
    "outputId": "1eb0f917-09a9-4a17-d7b1-31d2dd234b53",
    "papermill": {
     "duration": 0.025751,
     "end_time": "2023-01-29T00:27:28.938431",
     "exception": false,
     "start_time": "2023-01-29T00:27:28.912680",
     "status": "completed"
    },
    "tags": []
   },
   "outputs": [
    {
     "data": {
      "text/plain": [
       "tensor(4.)"
      ]
     },
     "execution_count": 2,
     "metadata": {},
     "output_type": "execute_result"
    }
   ],
   "source": [
    "# Number\n",
    "t1 = torch.tensor(4.)\n",
    "t1"
   ]
  },
  {
   "cell_type": "markdown",
   "id": "5d3ee364",
   "metadata": {
    "id": "RLy-dGxrTEG6",
    "papermill": {
     "duration": 0.007475,
     "end_time": "2023-01-29T00:27:28.953957",
     "exception": false,
     "start_time": "2023-01-29T00:27:28.946482",
     "status": "completed"
    },
    "tags": []
   },
   "source": [
    "`4.` is a shorthand for `4.0`. It is used to indicate to Python (and PyTorch) that you want to create a floating point number. We can verify this by checking the `dtype` attribute of our tensor:"
   ]
  },
  {
   "cell_type": "code",
   "execution_count": 3,
   "id": "3679059d",
   "metadata": {
    "execution": {
     "iopub.execute_input": "2023-01-29T00:27:28.971576Z",
     "iopub.status.busy": "2023-01-29T00:27:28.970806Z",
     "iopub.status.idle": "2023-01-29T00:27:28.976582Z",
     "shell.execute_reply": "2023-01-29T00:27:28.975742Z"
    },
    "id": "SjkM0FKmTEG7",
    "outputId": "e8c701a4-34be-4b58-861b-a58c46a6e611",
    "papermill": {
     "duration": 0.01712,
     "end_time": "2023-01-29T00:27:28.978730",
     "exception": false,
     "start_time": "2023-01-29T00:27:28.961610",
     "status": "completed"
    },
    "tags": []
   },
   "outputs": [
    {
     "data": {
      "text/plain": [
       "torch.float32"
      ]
     },
     "execution_count": 3,
     "metadata": {},
     "output_type": "execute_result"
    }
   ],
   "source": [
    "t1.dtype"
   ]
  },
  {
   "cell_type": "markdown",
   "id": "f6c4f6a5",
   "metadata": {
    "id": "BkO0co7pTEG7",
    "papermill": {
     "duration": 0.007562,
     "end_time": "2023-01-29T00:27:28.994292",
     "exception": false,
     "start_time": "2023-01-29T00:27:28.986730",
     "status": "completed"
    },
    "tags": []
   },
   "source": [
    "Let's try creating slightly more complex tensors:"
   ]
  },
  {
   "cell_type": "code",
   "execution_count": 4,
   "id": "9dcbd874",
   "metadata": {
    "execution": {
     "iopub.execute_input": "2023-01-29T00:27:29.014042Z",
     "iopub.status.busy": "2023-01-29T00:27:29.012928Z",
     "iopub.status.idle": "2023-01-29T00:27:29.020521Z",
     "shell.execute_reply": "2023-01-29T00:27:29.019148Z"
    },
    "id": "TLhYaVJNTEG8",
    "outputId": "750b3c48-5b7e-4671-b79a-865b659650a1",
    "papermill": {
     "duration": 0.01951,
     "end_time": "2023-01-29T00:27:29.022763",
     "exception": false,
     "start_time": "2023-01-29T00:27:29.003253",
     "status": "completed"
    },
    "tags": []
   },
   "outputs": [
    {
     "data": {
      "text/plain": [
       "tensor([1., 2., 3., 4.])"
      ]
     },
     "execution_count": 4,
     "metadata": {},
     "output_type": "execute_result"
    }
   ],
   "source": [
    "# Vector\n",
    "t2 = torch.tensor([1., 2, 3, 4])\n",
    "t2"
   ]
  },
  {
   "cell_type": "code",
   "execution_count": 5,
   "id": "ffe1ca95",
   "metadata": {
    "execution": {
     "iopub.execute_input": "2023-01-29T00:27:29.041775Z",
     "iopub.status.busy": "2023-01-29T00:27:29.040620Z",
     "iopub.status.idle": "2023-01-29T00:27:29.049841Z",
     "shell.execute_reply": "2023-01-29T00:27:29.048481Z"
    },
    "id": "uowwAHICTEG8",
    "outputId": "0a4a4ca7-7536-4d70-efc5-e5b210022784",
    "papermill": {
     "duration": 0.021647,
     "end_time": "2023-01-29T00:27:29.052619",
     "exception": false,
     "start_time": "2023-01-29T00:27:29.030972",
     "status": "completed"
    },
    "tags": []
   },
   "outputs": [
    {
     "data": {
      "text/plain": [
       "tensor([[ 5.,  6.],\n",
       "        [ 7.,  8.],\n",
       "        [ 9., 10.]])"
      ]
     },
     "execution_count": 5,
     "metadata": {},
     "output_type": "execute_result"
    }
   ],
   "source": [
    "# Matrix\n",
    "t3 = torch.tensor([[5., 6], \n",
    "                   [7, 8], \n",
    "                   [9, 10]])\n",
    "t3"
   ]
  },
  {
   "cell_type": "code",
   "execution_count": 6,
   "id": "e7393a4c",
   "metadata": {
    "execution": {
     "iopub.execute_input": "2023-01-29T00:27:29.071905Z",
     "iopub.status.busy": "2023-01-29T00:27:29.071354Z",
     "iopub.status.idle": "2023-01-29T00:27:29.079434Z",
     "shell.execute_reply": "2023-01-29T00:27:29.078502Z"
    },
    "id": "rRwiw-GXTEG9",
    "outputId": "8605866b-5f81-49d5-8958-7997509c2317",
    "papermill": {
     "duration": 0.020886,
     "end_time": "2023-01-29T00:27:29.081976",
     "exception": false,
     "start_time": "2023-01-29T00:27:29.061090",
     "status": "completed"
    },
    "tags": []
   },
   "outputs": [
    {
     "data": {
      "text/plain": [
       "tensor([[[11., 12., 13.],\n",
       "         [13., 14., 15.]],\n",
       "\n",
       "        [[15., 16., 17.],\n",
       "         [17., 18., 19.]]])"
      ]
     },
     "execution_count": 6,
     "metadata": {},
     "output_type": "execute_result"
    }
   ],
   "source": [
    "# 3-dimensional array (2,2,3)\n",
    "t4 = torch.tensor([\n",
    "    [[11, 12, 13], \n",
    "     [13, 14, 15]], \n",
    "    [[15, 16, 17], \n",
    "     [17, 18, 19.]]])\n",
    "t4"
   ]
  },
  {
   "cell_type": "markdown",
   "id": "7b367749",
   "metadata": {
    "id": "hDATtrwUTEG9",
    "papermill": {
     "duration": 0.00852,
     "end_time": "2023-01-29T00:27:29.098868",
     "exception": false,
     "start_time": "2023-01-29T00:27:29.090348",
     "status": "completed"
    },
    "tags": []
   },
   "source": [
    "Tensors can have any number of dimensions, and different lengths along each dimension. We can inspect the length along each dimension using the `.shape` property of a tensor."
   ]
  },
  {
   "cell_type": "code",
   "execution_count": 7,
   "id": "1faa48fa",
   "metadata": {
    "execution": {
     "iopub.execute_input": "2023-01-29T00:27:29.118189Z",
     "iopub.status.busy": "2023-01-29T00:27:29.117480Z",
     "iopub.status.idle": "2023-01-29T00:27:29.127175Z",
     "shell.execute_reply": "2023-01-29T00:27:29.125886Z"
    },
    "id": "eLJHg2PvTEG9",
    "outputId": "e8a1c0ef-ffe9-49d3-ed8b-e3ff6078576a",
    "papermill": {
     "duration": 0.022233,
     "end_time": "2023-01-29T00:27:29.129790",
     "exception": false,
     "start_time": "2023-01-29T00:27:29.107557",
     "status": "completed"
    },
    "tags": []
   },
   "outputs": [
    {
     "name": "stdout",
     "output_type": "stream",
     "text": [
      "tensor(4.)\n"
     ]
    },
    {
     "data": {
      "text/plain": [
       "torch.Size([])"
      ]
     },
     "execution_count": 7,
     "metadata": {},
     "output_type": "execute_result"
    }
   ],
   "source": [
    "print(t1)\n",
    "t1.shape"
   ]
  },
  {
   "cell_type": "code",
   "execution_count": 8,
   "id": "7e017b05",
   "metadata": {
    "execution": {
     "iopub.execute_input": "2023-01-29T00:27:29.149181Z",
     "iopub.status.busy": "2023-01-29T00:27:29.148744Z",
     "iopub.status.idle": "2023-01-29T00:27:29.156880Z",
     "shell.execute_reply": "2023-01-29T00:27:29.156010Z"
    },
    "id": "PbBW7GgRTEG-",
    "outputId": "c71f3748-e359-427b-b36c-4172155efe4d",
    "papermill": {
     "duration": 0.020845,
     "end_time": "2023-01-29T00:27:29.159084",
     "exception": false,
     "start_time": "2023-01-29T00:27:29.138239",
     "status": "completed"
    },
    "tags": []
   },
   "outputs": [
    {
     "name": "stdout",
     "output_type": "stream",
     "text": [
      "tensor([1., 2., 3., 4.])\n"
     ]
    },
    {
     "data": {
      "text/plain": [
       "torch.Size([4])"
      ]
     },
     "execution_count": 8,
     "metadata": {},
     "output_type": "execute_result"
    }
   ],
   "source": [
    "print(t2)\n",
    "t2.shape"
   ]
  },
  {
   "cell_type": "code",
   "execution_count": 9,
   "id": "c18a7d27",
   "metadata": {
    "execution": {
     "iopub.execute_input": "2023-01-29T00:27:29.181048Z",
     "iopub.status.busy": "2023-01-29T00:27:29.180352Z",
     "iopub.status.idle": "2023-01-29T00:27:29.190647Z",
     "shell.execute_reply": "2023-01-29T00:27:29.189133Z"
    },
    "id": "BzOdDuwFTEG-",
    "outputId": "1ced7e59-2a6a-4716-eb76-275c338783b0",
    "papermill": {
     "duration": 0.024652,
     "end_time": "2023-01-29T00:27:29.193448",
     "exception": false,
     "start_time": "2023-01-29T00:27:29.168796",
     "status": "completed"
    },
    "tags": []
   },
   "outputs": [
    {
     "name": "stdout",
     "output_type": "stream",
     "text": [
      "tensor([[ 5.,  6.],\n",
      "        [ 7.,  8.],\n",
      "        [ 9., 10.]])\n"
     ]
    },
    {
     "data": {
      "text/plain": [
       "torch.Size([3, 2])"
      ]
     },
     "execution_count": 9,
     "metadata": {},
     "output_type": "execute_result"
    }
   ],
   "source": [
    "print(t3)\n",
    "t3.shape"
   ]
  },
  {
   "cell_type": "code",
   "execution_count": 10,
   "id": "95b41075",
   "metadata": {
    "execution": {
     "iopub.execute_input": "2023-01-29T00:27:29.214256Z",
     "iopub.status.busy": "2023-01-29T00:27:29.213825Z",
     "iopub.status.idle": "2023-01-29T00:27:29.223121Z",
     "shell.execute_reply": "2023-01-29T00:27:29.221924Z"
    },
    "id": "y92zthrhTEG-",
    "outputId": "2087b0c4-b10e-4afa-80b6-adc2bfd25a5a",
    "papermill": {
     "duration": 0.023798,
     "end_time": "2023-01-29T00:27:29.226356",
     "exception": false,
     "start_time": "2023-01-29T00:27:29.202558",
     "status": "completed"
    },
    "tags": []
   },
   "outputs": [
    {
     "name": "stdout",
     "output_type": "stream",
     "text": [
      "tensor([[[11., 12., 13.],\n",
      "         [13., 14., 15.]],\n",
      "\n",
      "        [[15., 16., 17.],\n",
      "         [17., 18., 19.]]])\n"
     ]
    },
    {
     "data": {
      "text/plain": [
       "torch.Size([2, 2, 3])"
      ]
     },
     "execution_count": 10,
     "metadata": {},
     "output_type": "execute_result"
    }
   ],
   "source": [
    "print(t4)\n",
    "t4.shape"
   ]
  },
  {
   "cell_type": "markdown",
   "id": "d413f57d",
   "metadata": {
    "id": "mCjDUJy6TEG_",
    "papermill": {
     "duration": 0.008724,
     "end_time": "2023-01-29T00:27:29.244379",
     "exception": false,
     "start_time": "2023-01-29T00:27:29.235655",
     "status": "completed"
    },
    "tags": []
   },
   "source": [
    "## Tensor operations and gradients\n",
    "\n",
    "We can combine tensors with the usual arithmetic operations. Let's look an example:"
   ]
  },
  {
   "cell_type": "code",
   "execution_count": 11,
   "id": "893a4bb2",
   "metadata": {
    "execution": {
     "iopub.execute_input": "2023-01-29T00:27:29.264926Z",
     "iopub.status.busy": "2023-01-29T00:27:29.264535Z",
     "iopub.status.idle": "2023-01-29T00:27:29.273489Z",
     "shell.execute_reply": "2023-01-29T00:27:29.272429Z"
    },
    "id": "c_JEc4PyTEG_",
    "outputId": "1436290c-5374-461f-ca9c-c86dffcf4b6f",
    "papermill": {
     "duration": 0.021872,
     "end_time": "2023-01-29T00:27:29.275784",
     "exception": false,
     "start_time": "2023-01-29T00:27:29.253912",
     "status": "completed"
    },
    "tags": []
   },
   "outputs": [
    {
     "data": {
      "text/plain": [
       "(tensor(3.), tensor(4., requires_grad=True), tensor(5., requires_grad=True))"
      ]
     },
     "execution_count": 11,
     "metadata": {},
     "output_type": "execute_result"
    }
   ],
   "source": [
    "# Create tensors.\n",
    "x = torch.tensor(3.)\n",
    "w = torch.tensor(4., requires_grad=True)\n",
    "b = torch.tensor(5., requires_grad=True)\n",
    "x, w, b"
   ]
  },
  {
   "cell_type": "markdown",
   "id": "eb575a82",
   "metadata": {
    "id": "uUzDYoZmTEG_",
    "papermill": {
     "duration": 0.009235,
     "end_time": "2023-01-29T00:27:29.295298",
     "exception": false,
     "start_time": "2023-01-29T00:27:29.286063",
     "status": "completed"
    },
    "tags": []
   },
   "source": [
    "We've created 3 tensors `x`, `w` and `b`, all numbers. `w` and `b` have an additional parameter `requires_grad` set to `True`. We'll see what it does in just a moment. \n",
    "\n",
    "Let's create a new tensor `y` by combining these tensors:"
   ]
  },
  {
   "cell_type": "code",
   "execution_count": 12,
   "id": "58fcea4c",
   "metadata": {
    "execution": {
     "iopub.execute_input": "2023-01-29T00:27:29.316578Z",
     "iopub.status.busy": "2023-01-29T00:27:29.316157Z",
     "iopub.status.idle": "2023-01-29T00:27:29.326487Z",
     "shell.execute_reply": "2023-01-29T00:27:29.325108Z"
    },
    "id": "KhIQ0WN9TEG_",
    "outputId": "ed2b49fe-1005-48fd-a72c-e72c8db3fe5b",
    "papermill": {
     "duration": 0.023992,
     "end_time": "2023-01-29T00:27:29.328811",
     "exception": false,
     "start_time": "2023-01-29T00:27:29.304819",
     "status": "completed"
    },
    "tags": []
   },
   "outputs": [
    {
     "data": {
      "text/plain": [
       "tensor(17., grad_fn=<AddBackward0>)"
      ]
     },
     "execution_count": 12,
     "metadata": {},
     "output_type": "execute_result"
    }
   ],
   "source": [
    "# Arithmetic operations\n",
    "y = w * x + b\n",
    "y"
   ]
  },
  {
   "cell_type": "markdown",
   "id": "5a75704f",
   "metadata": {
    "id": "wOVOY-83TEHA",
    "papermill": {
     "duration": 0.009002,
     "end_time": "2023-01-29T00:27:29.347209",
     "exception": false,
     "start_time": "2023-01-29T00:27:29.338207",
     "status": "completed"
    },
    "tags": []
   },
   "source": [
    "As expected, `y` is a tensor with the value `3 * 4 + 5 = 17`. What makes PyTorch special is that we can automatically compute the derivative of `y` w.r.t. the tensors that have `requires_grad` set to `True` i.e. w and b. To compute the derivatives, we can call the `.backward` method on our result `y`."
   ]
  },
  {
   "cell_type": "code",
   "execution_count": 13,
   "id": "8f5ffa87",
   "metadata": {
    "execution": {
     "iopub.execute_input": "2023-01-29T00:27:29.368290Z",
     "iopub.status.busy": "2023-01-29T00:27:29.367534Z",
     "iopub.status.idle": "2023-01-29T00:27:29.384671Z",
     "shell.execute_reply": "2023-01-29T00:27:29.383605Z"
    },
    "id": "1VMX__c3TEHA",
    "papermill": {
     "duration": 0.03054,
     "end_time": "2023-01-29T00:27:29.387404",
     "exception": false,
     "start_time": "2023-01-29T00:27:29.356864",
     "status": "completed"
    },
    "tags": []
   },
   "outputs": [],
   "source": [
    "# Compute derivatives\n",
    "y.backward()"
   ]
  },
  {
   "cell_type": "markdown",
   "id": "61313371",
   "metadata": {
    "id": "SBT3nA0aTEHA",
    "papermill": {
     "duration": 0.00989,
     "end_time": "2023-01-29T00:27:29.406758",
     "exception": false,
     "start_time": "2023-01-29T00:27:29.396868",
     "status": "completed"
    },
    "tags": []
   },
   "source": [
    "The derivates of `y` w.r.t the input tensors are stored in the `.grad` property of the respective tensors."
   ]
  },
  {
   "cell_type": "code",
   "execution_count": 14,
   "id": "1d377656",
   "metadata": {
    "execution": {
     "iopub.execute_input": "2023-01-29T00:27:29.427410Z",
     "iopub.status.busy": "2023-01-29T00:27:29.426984Z",
     "iopub.status.idle": "2023-01-29T00:27:29.434978Z",
     "shell.execute_reply": "2023-01-29T00:27:29.433658Z"
    },
    "id": "dRitjefXTEHA",
    "outputId": "7f90ddad-2110-4469-b448-e651a9f81ed6",
    "papermill": {
     "duration": 0.021774,
     "end_time": "2023-01-29T00:27:29.437885",
     "exception": false,
     "start_time": "2023-01-29T00:27:29.416111",
     "status": "completed"
    },
    "tags": []
   },
   "outputs": [
    {
     "name": "stdout",
     "output_type": "stream",
     "text": [
      "dy/dx: None\n",
      "dy/dw: tensor(3.)\n",
      "dy/db: tensor(1.)\n"
     ]
    }
   ],
   "source": [
    "# Display gradients\n",
    "print('dy/dx:', x.grad)\n",
    "print('dy/dw:', w.grad)\n",
    "print('dy/db:', b.grad)"
   ]
  },
  {
   "cell_type": "markdown",
   "id": "b5003733",
   "metadata": {
    "id": "Dln-FLhvTEHB",
    "papermill": {
     "duration": 0.00963,
     "end_time": "2023-01-29T00:27:29.457097",
     "exception": false,
     "start_time": "2023-01-29T00:27:29.447467",
     "status": "completed"
    },
    "tags": []
   },
   "source": [
    "As expected, `dy/dw` has the same value as `x` i.e. `3`, and `dy/db` has the value `1`. Note that `x.grad` is `None`, because `x` doesn't have `requires_grad` set to `True`. \n",
    "\n",
    "The \"grad\" in `w.grad` stands for gradient, which is another term for derivative, used mainly when dealing with matrices. "
   ]
  },
  {
   "cell_type": "markdown",
   "id": "d2c8400b",
   "metadata": {
    "id": "kQbO17UhTEHB",
    "papermill": {
     "duration": 0.00906,
     "end_time": "2023-01-29T00:27:29.476100",
     "exception": false,
     "start_time": "2023-01-29T00:27:29.467040",
     "status": "completed"
    },
    "tags": []
   },
   "source": [
    "## Interoperability with Numpy\n",
    "\n",
    "[Numpy](http://www.numpy.org/) is a popular open source library used for mathematical and scientific computing in Python. It enables efficient operations on large multi-dimensional arrays, and has a large ecosystem of supporting libraries:\n",
    "\n",
    "* [Matplotlib](https://matplotlib.org/) for plotting and visualization\n",
    "* [OpenCV](https://opencv.org/) for image and video processing\n",
    "* [Pandas](https://pandas.pydata.org/) for file I/O and data analysis\n",
    "\n",
    "Instead of reinventing the wheel, PyTorch interoperates really well with Numpy to leverage its existing ecosystem of tools and libraries."
   ]
  },
  {
   "cell_type": "markdown",
   "id": "ca713479",
   "metadata": {
    "id": "Pcr_GKBhTEHB",
    "papermill": {
     "duration": 0.009229,
     "end_time": "2023-01-29T00:27:29.494679",
     "exception": false,
     "start_time": "2023-01-29T00:27:29.485450",
     "status": "completed"
    },
    "tags": []
   },
   "source": [
    "Here's how we create an array in Numpy:"
   ]
  },
  {
   "cell_type": "code",
   "execution_count": 15,
   "id": "dfc73bad",
   "metadata": {
    "execution": {
     "iopub.execute_input": "2023-01-29T00:27:29.515666Z",
     "iopub.status.busy": "2023-01-29T00:27:29.515261Z",
     "iopub.status.idle": "2023-01-29T00:27:29.523576Z",
     "shell.execute_reply": "2023-01-29T00:27:29.522431Z"
    },
    "id": "c9J_m7YSTEHB",
    "outputId": "418dff47-865d-4744-9966-1d735d4e03b5",
    "papermill": {
     "duration": 0.021819,
     "end_time": "2023-01-29T00:27:29.525852",
     "exception": false,
     "start_time": "2023-01-29T00:27:29.504033",
     "status": "completed"
    },
    "tags": []
   },
   "outputs": [
    {
     "data": {
      "text/plain": [
       "array([[1., 2.],\n",
       "       [3., 4.]])"
      ]
     },
     "execution_count": 15,
     "metadata": {},
     "output_type": "execute_result"
    }
   ],
   "source": [
    "import numpy as np\n",
    "\n",
    "x = np.array([[1, 2], [3, 4.]])\n",
    "x"
   ]
  },
  {
   "cell_type": "markdown",
   "id": "8f108c37",
   "metadata": {
    "id": "sczyTIIZTEHB",
    "papermill": {
     "duration": 0.009203,
     "end_time": "2023-01-29T00:27:29.544576",
     "exception": false,
     "start_time": "2023-01-29T00:27:29.535373",
     "status": "completed"
    },
    "tags": []
   },
   "source": [
    "We can convert a Numpy array to a PyTorch tensor using `torch.from_numpy`."
   ]
  },
  {
   "cell_type": "code",
   "execution_count": 16,
   "id": "10e2a0e3",
   "metadata": {
    "execution": {
     "iopub.execute_input": "2023-01-29T00:27:29.564985Z",
     "iopub.status.busy": "2023-01-29T00:27:29.564582Z",
     "iopub.status.idle": "2023-01-29T00:27:29.573278Z",
     "shell.execute_reply": "2023-01-29T00:27:29.572220Z"
    },
    "id": "DzxXDQbrTEHC",
    "outputId": "b7f3e253-6d78-40b2-cfd9-5da2f84cdddd",
    "papermill": {
     "duration": 0.02166,
     "end_time": "2023-01-29T00:27:29.575577",
     "exception": false,
     "start_time": "2023-01-29T00:27:29.553917",
     "status": "completed"
    },
    "tags": []
   },
   "outputs": [
    {
     "data": {
      "text/plain": [
       "tensor([[1., 2.],\n",
       "        [3., 4.]], dtype=torch.float64)"
      ]
     },
     "execution_count": 16,
     "metadata": {},
     "output_type": "execute_result"
    }
   ],
   "source": [
    "# Convert the numpy array to a torch tensor.\n",
    "y = torch.from_numpy(x)\n",
    "y"
   ]
  },
  {
   "cell_type": "markdown",
   "id": "4728f43a",
   "metadata": {
    "id": "HGPtVOmzTEHC",
    "papermill": {
     "duration": 0.009805,
     "end_time": "2023-01-29T00:27:29.595007",
     "exception": false,
     "start_time": "2023-01-29T00:27:29.585202",
     "status": "completed"
    },
    "tags": []
   },
   "source": [
    "Let's verify that the numpy array and torch tensor have similar data types."
   ]
  },
  {
   "cell_type": "code",
   "execution_count": 17,
   "id": "7bdf8257",
   "metadata": {
    "execution": {
     "iopub.execute_input": "2023-01-29T00:27:29.615850Z",
     "iopub.status.busy": "2023-01-29T00:27:29.615477Z",
     "iopub.status.idle": "2023-01-29T00:27:29.622707Z",
     "shell.execute_reply": "2023-01-29T00:27:29.621442Z"
    },
    "id": "LJ1fnWCnTEHC",
    "outputId": "4504bc66-50fb-492c-d065-30d8bd0bea40",
    "papermill": {
     "duration": 0.020619,
     "end_time": "2023-01-29T00:27:29.625194",
     "exception": false,
     "start_time": "2023-01-29T00:27:29.604575",
     "status": "completed"
    },
    "tags": []
   },
   "outputs": [
    {
     "data": {
      "text/plain": [
       "(dtype('float64'), torch.float64)"
      ]
     },
     "execution_count": 17,
     "metadata": {},
     "output_type": "execute_result"
    }
   ],
   "source": [
    "x.dtype, y.dtype"
   ]
  },
  {
   "cell_type": "markdown",
   "id": "e8a7cdd8",
   "metadata": {
    "id": "eXQaD3_5TEHC",
    "papermill": {
     "duration": 0.009402,
     "end_time": "2023-01-29T00:27:29.644408",
     "exception": false,
     "start_time": "2023-01-29T00:27:29.635006",
     "status": "completed"
    },
    "tags": []
   },
   "source": [
    "We can convert a PyTorch tensor to a Numpy array using the `.numpy` method of a tensor."
   ]
  },
  {
   "cell_type": "code",
   "execution_count": 18,
   "id": "c3fc28bd",
   "metadata": {
    "execution": {
     "iopub.execute_input": "2023-01-29T00:27:29.666440Z",
     "iopub.status.busy": "2023-01-29T00:27:29.666051Z",
     "iopub.status.idle": "2023-01-29T00:27:29.673331Z",
     "shell.execute_reply": "2023-01-29T00:27:29.672016Z"
    },
    "id": "7c30yElaTEHC",
    "outputId": "cf5607b5-3c6d-4156-8f59-617a102e7e03",
    "papermill": {
     "duration": 0.021549,
     "end_time": "2023-01-29T00:27:29.675642",
     "exception": false,
     "start_time": "2023-01-29T00:27:29.654093",
     "status": "completed"
    },
    "tags": []
   },
   "outputs": [
    {
     "data": {
      "text/plain": [
       "array([[1., 2.],\n",
       "       [3., 4.]])"
      ]
     },
     "execution_count": 18,
     "metadata": {},
     "output_type": "execute_result"
    }
   ],
   "source": [
    "# Convert a torch tensor to a numpy array\n",
    "z = y.numpy()\n",
    "z"
   ]
  },
  {
   "cell_type": "markdown",
   "id": "864b1b87",
   "metadata": {
    "id": "Babr-1DvTEHC",
    "papermill": {
     "duration": 0.009591,
     "end_time": "2023-01-29T00:27:29.695026",
     "exception": false,
     "start_time": "2023-01-29T00:27:29.685435",
     "status": "completed"
    },
    "tags": []
   },
   "source": [
    "The interoperability between PyTorch and Numpy is really important because most datasets you'll work with will likely be read and preprocessed as Numpy arrays."
   ]
  },
  {
   "cell_type": "markdown",
   "id": "ea77b5d7",
   "metadata": {
    "id": "reguFMcOTEHD",
    "papermill": {
     "duration": 0.009389,
     "end_time": "2023-01-29T00:27:29.714304",
     "exception": false,
     "start_time": "2023-01-29T00:27:29.704915",
     "status": "completed"
    },
    "tags": []
   },
   "source": [
    "## Further Reading\n",
    "\n",
    "Tensors in PyTorch support a variety of operations, and what we've covered here is by no means exhaustive. You can learn more about tensors and tensor operations here: https://pytorch.org/docs/stable/tensors.html\n",
    "\n",
    "You can take advantage of the interactive Jupyter environment to experiment with tensors and try different combinations of operations discussed above. Here are some things to try out:\n",
    "\n",
    "1. What if one or more `x`, `w` or `b` were matrices, instead of numbers, in the above example? What would the result `y` and the gradients `w.grad` and `b.grad` look like in this case?\n",
    "\n",
    "2. What if `y` was a matrix created using `torch.tensor`, with each element of the matrix expressed as a combination of numeric tensors `x`, `w` and `b`?\n",
    "\n",
    "3. What if we had a chain of operations instead of just one i.e. `y = x * w + b`, `z = l * y + m`, `w = c * z + d` and so on? What would calling `w.grad` do?\n",
    "\n",
    "If you're interested, you can learn more about matrix derivates on Wikipedia (although it's not necessary for following along with this series of tutorials): https://en.wikipedia.org/wiki/Matrix_calculus#Derivatives_with_matrices "
   ]
  },
  {
   "cell_type": "markdown",
   "id": "eb23de6c",
   "metadata": {
    "id": "yXrOl1nmTEHE",
    "papermill": {
     "duration": 0.009458,
     "end_time": "2023-01-29T00:27:29.733310",
     "exception": false,
     "start_time": "2023-01-29T00:27:29.723852",
     "status": "completed"
    },
    "tags": []
   },
   "source": [
    "With this, we complete our discussion of tensors and gradients in PyTorch, and we're ready to move on to the next topic: *Linear regression*.\n",
    "\n",
    "## Credits\n",
    "\n",
    "The material in this series is heavily inspired by the following resources:\n",
    "\n",
    "1. [PyTorch Tutorial for Deep Learning Researchers](https://github.com/yunjey/pytorch-tutorial) by Yunjey Choi: \n",
    "\n",
    "2. [FastAI development notebooks](https://github.com/fastai/fastai_docs/tree/master/dev_nb) by Jeremy Howard: \n"
   ]
  }
 ],
 "metadata": {
  "kernelspec": {
   "display_name": "Python 3",
   "language": "python",
   "name": "python3"
  },
  "language_info": {
   "codemirror_mode": {
    "name": "ipython",
    "version": 3
   },
   "file_extension": ".py",
   "mimetype": "text/x-python",
   "name": "python",
   "nbconvert_exporter": "python",
   "pygments_lexer": "ipython3",
   "version": "3.7.12"
  },
  "papermill": {
   "default_parameters": {},
   "duration": 12.682974,
   "end_time": "2023-01-29T00:27:30.565361",
   "environment_variables": {},
   "exception": null,
   "input_path": "__notebook__.ipynb",
   "output_path": "__notebook__.ipynb",
   "parameters": {},
   "start_time": "2023-01-29T00:27:17.882387",
   "version": "2.3.4"
  }
 },
 "nbformat": 4,
 "nbformat_minor": 5
}
